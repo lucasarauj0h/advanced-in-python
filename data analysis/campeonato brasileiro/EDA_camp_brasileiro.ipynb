{
 "cells": [
  {
   "cell_type": "markdown",
   "metadata": {},
   "source": [
    "# EDA - Campeonato Brasileiro de Futebol"
   ]
  },
  {
   "cell_type": "markdown",
   "metadata": {},
   "source": [
    "## 1. Introdução"
   ]
  },
  {
   "cell_type": "markdown",
   "metadata": {},
   "source": [
    "É inegável a importância do futebol na sociedade brasileira. Presente nas discussões cotidianas, permeando o noticiário e tendo forte influência na política e na cultura do país, o futebol e a paixão do torcedor do torcedor por seu clube rende inúmeras célebres citações e é objeto de análise diária, tanto em canais esportivos da televisão e internet quanto no cotidiano do torcedor brasileiro. \n",
    "\n",
    "Ao encontrar esse dataset no kaggle, surgiu a ideia de realizar uma análise exploratória geral dos datasets disponibilizados, e depois utilizá-los para verificar se existe um paralelo entre algumas citações comuns ao futebol se aplicado ao Campeonato Brasileiro. Ao final, se utilizará as estatísticas disponibilizadas para verificar como jogaram os últimos times campeões brasileiros.\n",
    "\n",
    "* \"A torcida paga ingresso para ver o time vencer.\" Muricy Ramalho \n",
    "* \"Clássico é um campeonato a parte\"\n",
    "* \"Títulos de liga são ganhos nos últimos oito jogos, mas eles são perdidos nos primeiros oito\" Pep Guardiola"
   ]
  },
  {
   "cell_type": "markdown",
   "metadata": {},
   "source": [
    "## 2. Dados\n",
    "\n",
    "Os Dataset estão disponiveis no [Kaggle](https://www.kaggle.com/datasets/adaoduque/campeonato-brasileiro-de-futebol?select=campeonato-brasileiro-gols.csv).\n",
    "Contem dados sobre o campeonato brasileiro de futebol dos anos de 2003 a 2023, com partidas de ano a ano.\n"
   ]
  },
  {
   "cell_type": "markdown",
   "metadata": {},
   "source": [
    "### Dicionario\n",
    "\n",
    "O dicionario de dados se encontra dentro da pasta 'dados' no arquivo 'Legenda.txt'\n"
   ]
  },
  {
   "cell_type": "markdown",
   "metadata": {},
   "source": [
    "## 3. EDA"
   ]
  },
  {
   "cell_type": "code",
   "execution_count": 14,
   "metadata": {},
   "outputs": [],
   "source": [
    "import pandas as pd\n",
    "from matplotlib import pyplot as plt\n",
    "import seaborn as sns\n",
    "import numpy as np\n",
    "import warnings\n",
    "\n",
    "# Desativar todos os warnings\n",
    "warnings.filterwarnings(\"ignore\")"
   ]
  },
  {
   "cell_type": "code",
   "execution_count": 2,
   "metadata": {},
   "outputs": [],
   "source": [
    "partidas_br = pd.read_csv('dados/campeonato-brasileiro-full.csv')\n",
    "stats = pd.read_csv('dados/campeonato-brasileiro-estatisticas-full.csv')"
   ]
  },
  {
   "cell_type": "code",
   "execution_count": 3,
   "metadata": {},
   "outputs": [
    {
     "data": {
      "text/plain": [
       "(8405, 16)"
      ]
     },
     "execution_count": 3,
     "metadata": {},
     "output_type": "execute_result"
    }
   ],
   "source": [
    "partidas_br.shape"
   ]
  },
  {
   "cell_type": "code",
   "execution_count": 4,
   "metadata": {},
   "outputs": [
    {
     "data": {
      "text/html": [
       "<div>\n",
       "<style scoped>\n",
       "    .dataframe tbody tr th:only-of-type {\n",
       "        vertical-align: middle;\n",
       "    }\n",
       "\n",
       "    .dataframe tbody tr th {\n",
       "        vertical-align: top;\n",
       "    }\n",
       "\n",
       "    .dataframe thead th {\n",
       "        text-align: right;\n",
       "    }\n",
       "</style>\n",
       "<table border=\"1\" class=\"dataframe\">\n",
       "  <thead>\n",
       "    <tr style=\"text-align: right;\">\n",
       "      <th></th>\n",
       "      <th>ID</th>\n",
       "      <th>rodata</th>\n",
       "      <th>data</th>\n",
       "      <th>hora</th>\n",
       "      <th>mandante</th>\n",
       "      <th>visitante</th>\n",
       "      <th>formacao_mandante</th>\n",
       "      <th>formacao_visitante</th>\n",
       "      <th>tecnico_mandante</th>\n",
       "      <th>tecnico_visitante</th>\n",
       "      <th>vencedor</th>\n",
       "      <th>arena</th>\n",
       "      <th>mandante_Placar</th>\n",
       "      <th>visitante_Placar</th>\n",
       "      <th>mandante_Estado</th>\n",
       "      <th>visitante_Estado</th>\n",
       "    </tr>\n",
       "  </thead>\n",
       "  <tbody>\n",
       "    <tr>\n",
       "      <th>0</th>\n",
       "      <td>1</td>\n",
       "      <td>1</td>\n",
       "      <td>29/03/2003</td>\n",
       "      <td>16:00</td>\n",
       "      <td>Guarani</td>\n",
       "      <td>Vasco</td>\n",
       "      <td>NaN</td>\n",
       "      <td>NaN</td>\n",
       "      <td>NaN</td>\n",
       "      <td>NaN</td>\n",
       "      <td>Guarani</td>\n",
       "      <td>Brinco de Ouro</td>\n",
       "      <td>4</td>\n",
       "      <td>2</td>\n",
       "      <td>SP</td>\n",
       "      <td>RJ</td>\n",
       "    </tr>\n",
       "    <tr>\n",
       "      <th>1</th>\n",
       "      <td>2</td>\n",
       "      <td>1</td>\n",
       "      <td>29/03/2003</td>\n",
       "      <td>16:00</td>\n",
       "      <td>Athletico-PR</td>\n",
       "      <td>Gremio</td>\n",
       "      <td>NaN</td>\n",
       "      <td>NaN</td>\n",
       "      <td>NaN</td>\n",
       "      <td>NaN</td>\n",
       "      <td>Athletico-PR</td>\n",
       "      <td>Arena da Baixada</td>\n",
       "      <td>2</td>\n",
       "      <td>0</td>\n",
       "      <td>PR</td>\n",
       "      <td>RS</td>\n",
       "    </tr>\n",
       "    <tr>\n",
       "      <th>2</th>\n",
       "      <td>3</td>\n",
       "      <td>1</td>\n",
       "      <td>30/03/2003</td>\n",
       "      <td>16:00</td>\n",
       "      <td>Flamengo</td>\n",
       "      <td>Coritiba</td>\n",
       "      <td>NaN</td>\n",
       "      <td>NaN</td>\n",
       "      <td>NaN</td>\n",
       "      <td>NaN</td>\n",
       "      <td>-</td>\n",
       "      <td>Maracanã</td>\n",
       "      <td>1</td>\n",
       "      <td>1</td>\n",
       "      <td>RJ</td>\n",
       "      <td>PR</td>\n",
       "    </tr>\n",
       "    <tr>\n",
       "      <th>3</th>\n",
       "      <td>4</td>\n",
       "      <td>1</td>\n",
       "      <td>30/03/2003</td>\n",
       "      <td>16:00</td>\n",
       "      <td>Goias</td>\n",
       "      <td>Paysandu</td>\n",
       "      <td>NaN</td>\n",
       "      <td>NaN</td>\n",
       "      <td>NaN</td>\n",
       "      <td>NaN</td>\n",
       "      <td>-</td>\n",
       "      <td>Serra Dourada</td>\n",
       "      <td>2</td>\n",
       "      <td>2</td>\n",
       "      <td>GO</td>\n",
       "      <td>PA</td>\n",
       "    </tr>\n",
       "    <tr>\n",
       "      <th>4</th>\n",
       "      <td>5</td>\n",
       "      <td>1</td>\n",
       "      <td>30/03/2003</td>\n",
       "      <td>16:00</td>\n",
       "      <td>Internacional</td>\n",
       "      <td>Ponte Preta</td>\n",
       "      <td>NaN</td>\n",
       "      <td>NaN</td>\n",
       "      <td>NaN</td>\n",
       "      <td>NaN</td>\n",
       "      <td>-</td>\n",
       "      <td>Beira Rio</td>\n",
       "      <td>1</td>\n",
       "      <td>1</td>\n",
       "      <td>RS</td>\n",
       "      <td>SP</td>\n",
       "    </tr>\n",
       "  </tbody>\n",
       "</table>\n",
       "</div>"
      ],
      "text/plain": [
       "   ID  rodata        data   hora       mandante    visitante  \\\n",
       "0   1       1  29/03/2003  16:00        Guarani        Vasco   \n",
       "1   2       1  29/03/2003  16:00   Athletico-PR       Gremio   \n",
       "2   3       1  30/03/2003  16:00       Flamengo     Coritiba   \n",
       "3   4       1  30/03/2003  16:00          Goias     Paysandu   \n",
       "4   5       1  30/03/2003  16:00  Internacional  Ponte Preta   \n",
       "\n",
       "  formacao_mandante formacao_visitante tecnico_mandante tecnico_visitante  \\\n",
       "0               NaN                NaN              NaN               NaN   \n",
       "1               NaN                NaN              NaN               NaN   \n",
       "2               NaN                NaN              NaN               NaN   \n",
       "3               NaN                NaN              NaN               NaN   \n",
       "4               NaN                NaN              NaN               NaN   \n",
       "\n",
       "       vencedor              arena  mandante_Placar  visitante_Placar  \\\n",
       "0       Guarani     Brinco de Ouro                4                 2   \n",
       "1  Athletico-PR   Arena da Baixada                2                 0   \n",
       "2             -           Maracanã                1                 1   \n",
       "3             -      Serra Dourada                2                 2   \n",
       "4             -          Beira Rio                1                 1   \n",
       "\n",
       "  mandante_Estado visitante_Estado  \n",
       "0              SP               RJ  \n",
       "1              PR               RS  \n",
       "2              RJ               PR  \n",
       "3              GO               PA  \n",
       "4              RS               SP  "
      ]
     },
     "execution_count": 4,
     "metadata": {},
     "output_type": "execute_result"
    }
   ],
   "source": [
    "partidas_br.head()"
   ]
  },
  {
   "cell_type": "code",
   "execution_count": 6,
   "metadata": {},
   "outputs": [
    {
     "data": {
      "text/plain": [
       "8405"
      ]
     },
     "execution_count": 6,
     "metadata": {},
     "output_type": "execute_result"
    }
   ],
   "source": [
    "# Verificando duplicidade\n",
    "partidas_br['ID'].nunique()"
   ]
  },
  {
   "cell_type": "code",
   "execution_count": 7,
   "metadata": {},
   "outputs": [
    {
     "name": "stdout",
     "output_type": "stream",
     "text": [
      "<class 'pandas.core.frame.DataFrame'>\n",
      "RangeIndex: 8405 entries, 0 to 8404\n",
      "Data columns (total 16 columns):\n",
      " #   Column              Non-Null Count  Dtype \n",
      "---  ------              --------------  ----- \n",
      " 0   ID                  8405 non-null   int64 \n",
      " 1   rodata              8405 non-null   int64 \n",
      " 2   data                8405 non-null   object\n",
      " 3   hora                8405 non-null   object\n",
      " 4   mandante            8405 non-null   object\n",
      " 5   visitante           8405 non-null   object\n",
      " 6   formacao_mandante   3431 non-null   object\n",
      " 7   formacao_visitante  3431 non-null   object\n",
      " 8   tecnico_mandante    3795 non-null   object\n",
      " 9   tecnico_visitante   3795 non-null   object\n",
      " 10  vencedor            8405 non-null   object\n",
      " 11  arena               8405 non-null   object\n",
      " 12  mandante_Placar     8405 non-null   int64 \n",
      " 13  visitante_Placar    8405 non-null   int64 \n",
      " 14  mandante_Estado     8405 non-null   object\n",
      " 15  visitante_Estado    8405 non-null   object\n",
      "dtypes: int64(4), object(12)\n",
      "memory usage: 1.0+ MB\n"
     ]
    }
   ],
   "source": [
    "partidas_br.info()"
   ]
  },
  {
   "cell_type": "markdown",
   "metadata": {},
   "source": [
    "Os módulos a seguir foram criados durante o curso de Formação Analista de Dados (FADA) da Data Science Academy com auxilio do professor em video aula\n",
    "\n",
    "Os módulos se tratam de técnicas de tratamento de dados que podem ser reutilizadas em diferentes casos e análises, sendo necessária somente a importação do mesmo\n",
    "\n",
    "A seguir segue a descrição de cada módulo\n",
    "\n",
    "valores_ausentes.py -\n",
    "- identifica a porcentagem de valores ausentes\n",
    "- diversas funções com técnicas de tratamentos dos valores ausentes, sendo elas:\n",
    "    - imputação (bfill, ffill, media e mediana)\n",
    "    - drop de linhas ou colunas\n",
    "\n",
    "conversao.py - Modulos de conversão dos tipos de dados para\n",
    "- data\n",
    "- string\n",
    "- int64\n",
    "- fator\n",
    "\n",
    "outliers.py - \n",
    "- identifica a porcentagem de outliers\n",
    "- realiza o tratamento desses outliers (podendo ser o drop/exclusão dos mesmos, ou replace/modificação)\n"
   ]
  },
  {
   "cell_type": "code",
   "execution_count": 11,
   "metadata": {},
   "outputs": [],
   "source": [
    "from modulos import valores_ausentes"
   ]
  },
  {
   "cell_type": "code",
   "execution_count": 15,
   "metadata": {},
   "outputs": [
    {
     "name": "stdout",
     "output_type": "stream",
     "text": [
      "O dataset tem 14.25 % de valores ausentes.\n"
     ]
    }
   ],
   "source": [
    "valores_ausentes.func_calc_percentual_valores_ausentes(partidas_br)"
   ]
  },
  {
   "cell_type": "code",
   "execution_count": 16,
   "metadata": {},
   "outputs": [
    {
     "name": "stdout",
     "output_type": "stream",
     "text": [
      "O dataset tem 16 colunas.\n",
      "Encontrado: 4 colunas que têm valores ausentes.\n"
     ]
    },
    {
     "data": {
      "text/html": [
       "<div>\n",
       "<style scoped>\n",
       "    .dataframe tbody tr th:only-of-type {\n",
       "        vertical-align: middle;\n",
       "    }\n",
       "\n",
       "    .dataframe tbody tr th {\n",
       "        vertical-align: top;\n",
       "    }\n",
       "\n",
       "    .dataframe thead th {\n",
       "        text-align: right;\n",
       "    }\n",
       "</style>\n",
       "<table border=\"1\" class=\"dataframe\">\n",
       "  <thead>\n",
       "    <tr style=\"text-align: right;\">\n",
       "      <th></th>\n",
       "      <th>Valores Ausentes</th>\n",
       "      <th>% de Valores Ausentes</th>\n",
       "      <th>Dtype</th>\n",
       "    </tr>\n",
       "  </thead>\n",
       "  <tbody>\n",
       "    <tr>\n",
       "      <th>formacao_mandante</th>\n",
       "      <td>4974</td>\n",
       "      <td>59.18</td>\n",
       "      <td>object</td>\n",
       "    </tr>\n",
       "    <tr>\n",
       "      <th>formacao_visitante</th>\n",
       "      <td>4974</td>\n",
       "      <td>59.18</td>\n",
       "      <td>object</td>\n",
       "    </tr>\n",
       "    <tr>\n",
       "      <th>tecnico_mandante</th>\n",
       "      <td>4610</td>\n",
       "      <td>54.85</td>\n",
       "      <td>object</td>\n",
       "    </tr>\n",
       "    <tr>\n",
       "      <th>tecnico_visitante</th>\n",
       "      <td>4610</td>\n",
       "      <td>54.85</td>\n",
       "      <td>object</td>\n",
       "    </tr>\n",
       "  </tbody>\n",
       "</table>\n",
       "</div>"
      ],
      "text/plain": [
       "                    Valores Ausentes  % de Valores Ausentes   Dtype\n",
       "formacao_mandante               4974                  59.18  object\n",
       "formacao_visitante              4974                  59.18  object\n",
       "tecnico_mandante                4610                  54.85  object\n",
       "tecnico_visitante               4610                  54.85  object"
      ]
     },
     "execution_count": 16,
     "metadata": {},
     "output_type": "execute_result"
    }
   ],
   "source": [
    "valores_ausentes.func_calc_percentual_valores_ausentes_coluna(partidas_br)"
   ]
  },
  {
   "cell_type": "code",
   "execution_count": 17,
   "metadata": {},
   "outputs": [
    {
     "name": "stdout",
     "output_type": "stream",
     "text": [
      "59.21 % das linhas no conjunto de dados contêm pelo menos um valor ausente.\n"
     ]
    }
   ],
   "source": [
    "valores_ausentes.func_calc_percentual_valores_ausentes_linha(partidas_br)"
   ]
  },
  {
   "cell_type": "markdown",
   "metadata": {},
   "source": [
    "O arquivo 'campeonato-brasileiro-full' contem informações sobre todas as partidas realizadas para a Série A do campeonato brasileiro, de 2003 a 2023 (era dos pontos corridos). Nota-se que o dataset contem 8405 entradas com informações de partidas realizadas e que todos os ID's são únicos, o que permite assumir que não existem entradas duplicadas. \n",
    "\n",
    "Em relação aos dados, percebe-se que existem dados nulos para as colunas 'formacao_mandante', 'formacao_visitante', 'tecnico_mandante' e 'tecnico_visitante'. Essas informações não serão utilizadas em análises posteriores. Quanto ao tipo de variável, detectou-se que data e hora estão no formato 'object', mas deveriam ser 'datetime64'."
   ]
  },
  {
   "cell_type": "code",
   "execution_count": 18,
   "metadata": {},
   "outputs": [
    {
     "data": {
      "text/html": [
       "<div>\n",
       "<style scoped>\n",
       "    .dataframe tbody tr th:only-of-type {\n",
       "        vertical-align: middle;\n",
       "    }\n",
       "\n",
       "    .dataframe tbody tr th {\n",
       "        vertical-align: top;\n",
       "    }\n",
       "\n",
       "    .dataframe thead th {\n",
       "        text-align: right;\n",
       "    }\n",
       "</style>\n",
       "<table border=\"1\" class=\"dataframe\">\n",
       "  <thead>\n",
       "    <tr style=\"text-align: right;\">\n",
       "      <th></th>\n",
       "      <th>ID</th>\n",
       "      <th>rodata</th>\n",
       "      <th>mandante_Placar</th>\n",
       "      <th>visitante_Placar</th>\n",
       "    </tr>\n",
       "  </thead>\n",
       "  <tbody>\n",
       "    <tr>\n",
       "      <th>count</th>\n",
       "      <td>8405.00000</td>\n",
       "      <td>8405.000000</td>\n",
       "      <td>8405.000000</td>\n",
       "      <td>8405.000000</td>\n",
       "    </tr>\n",
       "    <tr>\n",
       "      <th>mean</th>\n",
       "      <td>4203.00000</td>\n",
       "      <td>20.133254</td>\n",
       "      <td>1.541225</td>\n",
       "      <td>1.027008</td>\n",
       "    </tr>\n",
       "    <tr>\n",
       "      <th>std</th>\n",
       "      <td>2426.45884</td>\n",
       "      <td>11.444643</td>\n",
       "      <td>1.230607</td>\n",
       "      <td>1.027170</td>\n",
       "    </tr>\n",
       "    <tr>\n",
       "      <th>min</th>\n",
       "      <td>1.00000</td>\n",
       "      <td>1.000000</td>\n",
       "      <td>0.000000</td>\n",
       "      <td>0.000000</td>\n",
       "    </tr>\n",
       "    <tr>\n",
       "      <th>25%</th>\n",
       "      <td>2102.00000</td>\n",
       "      <td>10.000000</td>\n",
       "      <td>1.000000</td>\n",
       "      <td>0.000000</td>\n",
       "    </tr>\n",
       "    <tr>\n",
       "      <th>50%</th>\n",
       "      <td>4203.00000</td>\n",
       "      <td>20.000000</td>\n",
       "      <td>1.000000</td>\n",
       "      <td>1.000000</td>\n",
       "    </tr>\n",
       "    <tr>\n",
       "      <th>75%</th>\n",
       "      <td>6304.00000</td>\n",
       "      <td>30.000000</td>\n",
       "      <td>2.000000</td>\n",
       "      <td>2.000000</td>\n",
       "    </tr>\n",
       "    <tr>\n",
       "      <th>max</th>\n",
       "      <td>8405.00000</td>\n",
       "      <td>46.000000</td>\n",
       "      <td>7.000000</td>\n",
       "      <td>7.000000</td>\n",
       "    </tr>\n",
       "  </tbody>\n",
       "</table>\n",
       "</div>"
      ],
      "text/plain": [
       "               ID       rodata  mandante_Placar  visitante_Placar\n",
       "count  8405.00000  8405.000000      8405.000000       8405.000000\n",
       "mean   4203.00000    20.133254         1.541225          1.027008\n",
       "std    2426.45884    11.444643         1.230607          1.027170\n",
       "min       1.00000     1.000000         0.000000          0.000000\n",
       "25%    2102.00000    10.000000         1.000000          0.000000\n",
       "50%    4203.00000    20.000000         1.000000          1.000000\n",
       "75%    6304.00000    30.000000         2.000000          2.000000\n",
       "max    8405.00000    46.000000         7.000000          7.000000"
      ]
     },
     "execution_count": 18,
     "metadata": {},
     "output_type": "execute_result"
    }
   ],
   "source": [
    "partidas_br.describe()"
   ]
  },
  {
   "cell_type": "code",
   "execution_count": 69,
   "metadata": {},
   "outputs": [
    {
     "data": {
      "text/plain": [
       "Text(0, 0.5, 'Vitórias')"
      ]
     },
     "execution_count": 69,
     "metadata": {},
     "output_type": "execute_result"
    },
    {
     "data": {
      "image/png": "[encoded data removed]",
      "text/plain": [
       "<Figure size 1800x600 with 1 Axes>"
      ]
     },
     "metadata": {},
     "output_type": "display_data"
    }
   ],
   "source": [
    "# Maiores vencedores\n",
    "mais_vitorias = partidas_br['vencedor'].value_counts()\n",
    "mais_vitorias = mais_vitorias[1:]\n",
    "mais_vitorias= mais_vitorias.to_frame().reset_index()\n",
    "\n",
    "mais_vitorias=mais_vitorias.rename(columns={'vencedor':'clube', 'count':'vitorias'})\n",
    "\n",
    "fig, ax = plt.subplots(figsize = (18,6))\n",
    "ax = sns.barplot(data=mais_vitorias[:20], x = 'clube', y='vitorias', palette = 'YlGnBu_r')\n",
    "plt.title(\"Top 20 clubes com mais vitórias no campeonato brasileiro\", fontsize = 16)\n",
    "plt.xticks(fontsize = 10, rotation=90)\n",
    "plt.xlabel('Clube', fontsize = 12)\n",
    "plt.ylabel('Vitórias', fontsize = 12)\n"
   ]
  },
  {
   "cell_type": "code",
   "execution_count": 70,
   "metadata": {},
   "outputs": [
    {
     "data": {
      "text/html": [
       "<div>\n",
       "<style scoped>\n",
       "    .dataframe tbody tr th:only-of-type {\n",
       "        vertical-align: middle;\n",
       "    }\n",
       "\n",
       "    .dataframe tbody tr th {\n",
       "        vertical-align: top;\n",
       "    }\n",
       "\n",
       "    .dataframe thead th {\n",
       "        text-align: right;\n",
       "    }\n",
       "</style>\n",
       "<table border=\"1\" class=\"dataframe\">\n",
       "  <thead>\n",
       "    <tr style=\"text-align: right;\">\n",
       "      <th></th>\n",
       "      <th>clube</th>\n",
       "      <th>vitorias</th>\n",
       "    </tr>\n",
       "  </thead>\n",
       "  <tbody>\n",
       "    <tr>\n",
       "      <th>0</th>\n",
       "      <td>Sao Paulo</td>\n",
       "      <td>365</td>\n",
       "    </tr>\n",
       "    <tr>\n",
       "      <th>1</th>\n",
       "      <td>Flamengo</td>\n",
       "      <td>354</td>\n",
       "    </tr>\n",
       "    <tr>\n",
       "      <th>2</th>\n",
       "      <td>Santos</td>\n",
       "      <td>340</td>\n",
       "    </tr>\n",
       "    <tr>\n",
       "      <th>3</th>\n",
       "      <td>Internacional</td>\n",
       "      <td>339</td>\n",
       "    </tr>\n",
       "    <tr>\n",
       "      <th>4</th>\n",
       "      <td>Palmeiras</td>\n",
       "      <td>329</td>\n",
       "    </tr>\n",
       "  </tbody>\n",
       "</table>\n",
       "</div>"
      ],
      "text/plain": [
       "           clube  vitorias\n",
       "0      Sao Paulo       365\n",
       "1       Flamengo       354\n",
       "2         Santos       340\n",
       "3  Internacional       339\n",
       "4      Palmeiras       329"
      ]
     },
     "execution_count": 70,
     "metadata": {},
     "output_type": "execute_result"
    }
   ],
   "source": [
    "mais_vitorias.head()"
   ]
  },
  {
   "cell_type": "code",
   "execution_count": 74,
   "metadata": {},
   "outputs": [
    {
     "data": {
      "text/plain": [
       "Text(0.5, 0, 'Número de gols')"
      ]
     },
     "execution_count": 74,
     "metadata": {},
     "output_type": "execute_result"
    },
    {
     "data": {
      "image/png": "[encoded data removed]",
      "text/plain": [
       "<Figure size 1800x400 with 3 Axes>"
      ]
     },
     "metadata": {},
     "output_type": "display_data"
    }
   ],
   "source": [
    "# GOLs\n",
    "\n",
    "#numero de gols mandante e visitante\n",
    "numero_gols = {'mandante':partidas_br['mandante_Placar'].sum(), 'visitante':partidas_br['visitante_Placar'].sum()}\n",
    "numero_gols = pd.DataFrame({'Tipo':numero_gols.keys(), 'gols':numero_gols.values()})\n",
    "\n",
    "fig, axes = plt.subplots(1, 3, figsize = (18,4))\n",
    "\n",
    "#plot gols\n",
    "sns.barplot(data=numero_gols, x='Tipo', y='gols', palette = 'YlGnBu_r', ax=axes[0])\n",
    "axes[0].set_title('Numero de gols por mandante/visitante')\n",
    "axes[0].set_xlabel('')\n",
    "\n",
    "#gols por partida\n",
    "gols_partida=pd.DataFrame(partidas_br['mandante_Placar']+partidas_br['visitante_Placar'], columns=['gols_total'])\n",
    "\n",
    "#plot boxplot gols por partida\n",
    "sns.boxplot(data=gols_partida, ax= axes[1])\n",
    "axes[1].set_title('Boxplot - Número de gols por partida')\n",
    "axes[1].set_ylabel('Gols')\n",
    "\n",
    "#plot histograma gols \n",
    "sns.histplot(data=gols_partida, ax=axes[2])\n",
    "axes[2].set_title('Histograma - Número de gols por partida')\n",
    "axes[2].set_ylabel('Número de partidas')\n",
    "axes[2].set_xlabel('Número de gols')"
   ]
  },
  {
   "cell_type": "code",
   "execution_count": 89,
   "metadata": {},
   "outputs": [],
   "source": [
    "from modulos.outliers import *"
   ]
  },
  {
   "cell_type": "code",
   "execution_count": 91,
   "metadata": {},
   "outputs": [],
   "source": [
    "ver_outliers = TrataOutlier(gols_partida)"
   ]
  },
  {
   "cell_type": "code",
   "execution_count": 97,
   "metadata": {},
   "outputs": [
    {
     "data": {
      "text/plain": [
       "gols_total    int64\n",
       "dtype: object"
      ]
     },
     "execution_count": 97,
     "metadata": {},
     "output_type": "execute_result"
    }
   ],
   "source": [
    "gols_partida.dtypes"
   ]
  },
  {
   "cell_type": "code",
   "execution_count": 98,
   "metadata": {},
   "outputs": [],
   "source": [
    "# Lista de colunas int64\n",
    "lista_colunas = gols_partida.select_dtypes('int64').columns.tolist()"
   ]
  },
  {
   "cell_type": "code",
   "execution_count": 109,
   "metadata": {},
   "outputs": [
    {
     "data": {
      "text/html": [
       "<div>\n",
       "<style scoped>\n",
       "    .dataframe tbody tr th:only-of-type {\n",
       "        vertical-align: middle;\n",
       "    }\n",
       "\n",
       "    .dataframe tbody tr th {\n",
       "        vertical-align: top;\n",
       "    }\n",
       "\n",
       "    .dataframe thead th {\n",
       "        text-align: right;\n",
       "    }\n",
       "</style>\n",
       "<table border=\"1\" class=\"dataframe\">\n",
       "  <thead>\n",
       "    <tr style=\"text-align: right;\">\n",
       "      <th>Nome de Coluna</th>\n",
       "      <th>gols_total</th>\n",
       "    </tr>\n",
       "  </thead>\n",
       "  <tbody>\n",
       "    <tr>\n",
       "      <th>Min</th>\n",
       "      <td>0</td>\n",
       "    </tr>\n",
       "    <tr>\n",
       "      <th>Q1</th>\n",
       "      <td>1.0</td>\n",
       "    </tr>\n",
       "    <tr>\n",
       "      <th>Median</th>\n",
       "      <td>2.0</td>\n",
       "    </tr>\n",
       "    <tr>\n",
       "      <th>Q3</th>\n",
       "      <td>4.0</td>\n",
       "    </tr>\n",
       "    <tr>\n",
       "      <th>Max</th>\n",
       "      <td>11</td>\n",
       "    </tr>\n",
       "    <tr>\n",
       "      <th>IQR</th>\n",
       "      <td>3.0</td>\n",
       "    </tr>\n",
       "    <tr>\n",
       "      <th>Lower fence</th>\n",
       "      <td>-3.5</td>\n",
       "    </tr>\n",
       "    <tr>\n",
       "      <th>Upper fence</th>\n",
       "      <td>8.5</td>\n",
       "    </tr>\n",
       "    <tr>\n",
       "      <th>Skew</th>\n",
       "      <td>0.679933</td>\n",
       "    </tr>\n",
       "    <tr>\n",
       "      <th>Num_Outliers</th>\n",
       "      <td>13</td>\n",
       "    </tr>\n",
       "    <tr>\n",
       "      <th>Percent_Outliers</th>\n",
       "      <td>0.01%</td>\n",
       "    </tr>\n",
       "  </tbody>\n",
       "</table>\n",
       "</div>"
      ],
      "text/plain": [
       "Nome de Coluna   gols_total\n",
       "Min                       0\n",
       "Q1                      1.0\n",
       "Median                  2.0\n",
       "Q3                      4.0\n",
       "Max                      11\n",
       "IQR                     3.0\n",
       "Lower fence            -3.5\n",
       "Upper fence             8.5\n",
       "Skew               0.679933\n",
       "Num_Outliers             13\n",
       "Percent_Outliers      0.01%"
      ]
     },
     "execution_count": 109,
     "metadata": {},
     "output_type": "execute_result"
    }
   ],
   "source": [
    "ver_outliers.getOverview(lista_colunas)"
   ]
  },
  {
   "cell_type": "code",
   "execution_count": 113,
   "metadata": {},
   "outputs": [
    {
     "data": {
      "text/plain": [
       "data                22/10/2003\n",
       "mandante                 Bahia\n",
       "visitante               Santos\n",
       "mandante_Placar              4\n",
       "visitante_Placar             7\n",
       "Name: 450, dtype: object"
      ]
     },
     "execution_count": 113,
     "metadata": {},
     "output_type": "execute_result"
    }
   ],
   "source": [
    "#Encontrar partida com mais gols\n",
    "partida_mais_gols = gols_partida.loc[gols_partida['gols_total']==gols_partida['gols_total'].max()].index.values.astype(int)[0]\n",
    "partidas_br[['data', 'mandante', 'visitante','mandante_Placar', 'visitante_Placar']].iloc[partida_mais_gols]"
   ]
  },
  {
   "cell_type": "markdown",
   "metadata": {},
   "source": [
    "- Analisando os dados de partidas, temos o São Paulo com o maior número de vitórias no campeonato (351), seguido por Flamengo (335) e Santos (329). \n",
    "- Em relação aos gols, o número de gols marcados pelos mandantes prevalecem sobre o número de gols marcados pelos visitantes. Comparando o número de gols marcados por partida, temos uma média de 1,547 gols de mandante por partida e 1,025 gols de visitante por partida, com 50% das partidas com 2 gols ou menos, enquanto somente 25% das partidas tiveram 4 gols ou mais. \n",
    "- A partida com maior número de gols da história do Brasileirao foi Bahia 4 x 7 Santos, em 2003, com um total de 11 gols.\n"
   ]
  },
  {
   "cell_type": "code",
   "execution_count": null,
   "metadata": {},
   "outputs": [],
   "source": []
  }
 ],
 "metadata": {
  "kernelspec": {
   "display_name": "venv",
   "language": "python",
   "name": "python3"
  },
  "language_info": {
   "codemirror_mode": {
    "name": "ipython",
    "version": 3
   },
   "file_extension": ".py",
   "mimetype": "text/x-python",
   "name": "python",
   "nbconvert_exporter": "python",
   "pygments_lexer": "ipython3",
   "version": "3.11.4"
  }
 },
 "nbformat": 4,
 "nbformat_minor": 2
}
