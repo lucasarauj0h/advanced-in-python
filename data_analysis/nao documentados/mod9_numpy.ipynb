{
  "cells": [
    {
      "cell_type": "markdown",
      "metadata": {},
      "source": [
        "estudo 05/11/2023\n"
      ]
    },
    {
      "cell_type": "code",
      "execution_count": null,
      "metadata": {
        "id": "dDQPyF3uSaaY"
      },
      "outputs": [],
      "source": [
        "import numpy as np"
      ]
    },
    {
      "cell_type": "code",
      "execution_count": null,
      "metadata": {
        "colab": {
          "base_uri": "https://localhost:8080/",
          "height": 35
        },
        "id": "kA2mQCblg2rR",
        "outputId": "d30a05fa-e5c8-4029-9077-130419a5f35e"
      },
      "outputs": [
        {
          "data": {
            "application/vnd.google.colaboratory.intrinsic+json": {
              "type": "string"
            },
            "text/plain": [
              "'1.23.5'"
            ]
          },
          "execution_count": 4,
          "metadata": {},
          "output_type": "execute_result"
        }
      ],
      "source": [
        "np.__version__"
      ]
    },
    {
      "cell_type": "code",
      "execution_count": null,
      "metadata": {
        "colab": {
          "base_uri": "https://localhost:8080/"
        },
        "id": "B-MzFUMBg2nq",
        "outputId": "df06a344-dc53-4332-ea17-bf5f69027eeb"
      },
      "outputs": [
        {
          "name": "stdout",
          "output_type": "stream",
          "text": [
            "[10 20 30 40 50 60 70 80 90]\n"
          ]
        },
        {
          "data": {
            "text/plain": [
              "numpy.ndarray"
            ]
          },
          "execution_count": 8,
          "metadata": {},
          "output_type": "execute_result"
        }
      ],
      "source": [
        "# Criando arrays numpy (array == lista)\n",
        "arrl = np.array([10,20,30,40,50,60,70,80,90])\n",
        "print(arrl)\n",
        "type(arrl)"
      ]
    },
    {
      "cell_type": "code",
      "execution_count": null,
      "metadata": {
        "colab": {
          "base_uri": "https://localhost:8080/"
        },
        "id": "Zlr7xLPjg2kc",
        "outputId": "33275a76-4630-4df7-d93b-2402136d0ded"
      },
      "outputs": [
        {
          "data": {
            "text/plain": [
              "(9,)"
            ]
          },
          "execution_count": 9,
          "metadata": {},
          "output_type": "execute_result"
        }
      ],
      "source": [
        "# Verificando o formato do array\n",
        "arrl.shape\n",
        "# Esse (9,) significa que é um array em 1d com 9 elementos (um vetor)\n",
        "# existe o 2d e 3d\n",
        "# eixos x,y,z"
      ]
    },
    {
      "cell_type": "code",
      "execution_count": null,
      "metadata": {
        "colab": {
          "base_uri": "https://localhost:8080/"
        },
        "id": "udirjRxMg2hY",
        "outputId": "0c48eeb0-1784-4aeb-93d8-bf408d630dfa"
      },
      "outputs": [
        {
          "data": {
            "text/plain": [
              "array([20, 30, 60, 80])"
            ]
          },
          "execution_count": 16,
          "metadata": {},
          "output_type": "execute_result"
        }
      ],
      "source": [
        "# Imprimindo um elemento do array\n",
        "arrl[4] # (Indice 4)\n",
        "arrl[1:4] # Indices entre 1' e 3' - excluindo o 4 ;; o ultimo valor é exclusivo.\n",
        "indices = [1,2,5,7]\n",
        "arrl[indices]\n",
        "# Criando uma mascará para numeros pares\n"
      ]
    },
    {
      "cell_type": "code",
      "execution_count": null,
      "metadata": {
        "colab": {
          "base_uri": "https://localhost:8080/"
        },
        "id": "dd8UM4fWg2es",
        "outputId": "e946e0e7-680d-42b0-bddb-402beb451c57"
      },
      "outputs": [
        {
          "data": {
            "text/plain": [
              "array([ True,  True,  True,  True,  True,  True,  True,  True,  True])"
            ]
          },
          "execution_count": 19,
          "metadata": {},
          "output_type": "execute_result"
        }
      ],
      "source": [
        "# Criando uma mascará para numeros pares\n",
        "mask = (arrl % 2 == 0)\n",
        "mask"
      ]
    },
    {
      "cell_type": "code",
      "execution_count": null,
      "metadata": {
        "colab": {
          "base_uri": "https://localhost:8080/"
        },
        "id": "l5LwBVMVg2b_",
        "outputId": "fb5d04fc-c462-4ffa-80e9-575256acebf4"
      },
      "outputs": [
        {
          "data": {
            "text/plain": [
              "array([10, 20, 30, 40, 50, 60, 70, 80, 90])"
            ]
          },
          "execution_count": 20,
          "metadata": {},
          "output_type": "execute_result"
        }
      ],
      "source": [
        "arrl[mask]"
      ]
    },
    {
      "cell_type": "code",
      "execution_count": null,
      "metadata": {
        "colab": {
          "base_uri": "https://localhost:8080/"
        },
        "id": "CJXRBRcmg2Zl",
        "outputId": "3371c506-ee97-4ec4-d3f0-bd67a64817e3"
      },
      "outputs": [
        {
          "data": {
            "text/plain": [
              "numpy.ndarray"
            ]
          },
          "execution_count": 22,
          "metadata": {},
          "output_type": "execute_result"
        }
      ],
      "source": [
        "arr2 = np.array([1,2,3,4,5])\n",
        "arr2\n",
        "type(arr2)"
      ]
    },
    {
      "cell_type": "code",
      "execution_count": null,
      "metadata": {
        "colab": {
          "base_uri": "https://localhost:8080/"
        },
        "id": "qqJbRwQEg2Wt",
        "outputId": "328adcc9-e252-455d-dc03-6cd3c640eaf2"
      },
      "outputs": [
        {
          "data": {
            "text/plain": [
              "array([ 1,  3,  6, 10, 15])"
            ]
          },
          "execution_count": 23,
          "metadata": {},
          "output_type": "execute_result"
        }
      ],
      "source": [
        "# Soma acumulada do array\n",
        "arr2.cumsum()"
      ]
    },
    {
      "cell_type": "code",
      "execution_count": null,
      "metadata": {
        "colab": {
          "base_uri": "https://localhost:8080/"
        },
        "id": "QYPvsl0rizrb",
        "outputId": "1083f7d9-f507-4dc4-d96b-d5472a4c99f6"
      },
      "outputs": [
        {
          "data": {
            "text/plain": [
              "array([ 0,  5, 10, 15, 20, 25, 30, 35, 40, 45])"
            ]
          },
          "execution_count": 25,
          "metadata": {},
          "output_type": "execute_result"
        }
      ],
      "source": [
        "# Crie um array com os parametros (inicio, fim, intervalo) - start, stop, step\n",
        "arr3 = np.arange(0,50,5)\n",
        "arr3"
      ]
    },
    {
      "cell_type": "code",
      "execution_count": null,
      "metadata": {
        "colab": {
          "base_uri": "https://localhost:8080/"
        },
        "id": "D_eUeaP0n10f",
        "outputId": "b8684858-2962-4ac0-dd4b-1d5a26a3d657"
      },
      "outputs": [
        {
          "data": {
            "text/plain": [
              "array([[1., 0., 0., 0., 0.],\n",
              "       [0., 1., 0., 0., 0.],\n",
              "       [0., 0., 1., 0., 0.],\n",
              "       [0., 0., 0., 1., 0.],\n",
              "       [0., 0., 0., 0., 1.]])"
            ]
          },
          "execution_count": 29,
          "metadata": {},
          "output_type": "execute_result"
        }
      ],
      "source": [
        "# Cria uma matriz binária preenchendo com 1 somente a diagonal\n",
        "arr5 = np.eye(5)\n",
        "arr5"
      ]
    },
    {
      "cell_type": "code",
      "execution_count": null,
      "metadata": {
        "colab": {
          "base_uri": "https://localhost:8080/"
        },
        "id": "csFhRyR9izm9",
        "outputId": "fbe0bfef-b6cd-4ba6-8c6b-b645a9114c4d"
      },
      "outputs": [
        {
          "name": "stdout",
          "output_type": "stream",
          "text": [
            "int64\n"
          ]
        }
      ],
      "source": [
        "# Tipo dos dados.\n",
        "print(arr3.dtype)"
      ]
    },
    {
      "cell_type": "code",
      "execution_count": null,
      "metadata": {
        "colab": {
          "base_uri": "https://localhost:8080/"
        },
        "id": "enyNj-FMizj8",
        "outputId": "489f23bf-5ee5-428d-c4d5-73f67451ec0d"
      },
      "outputs": [
        {
          "data": {
            "text/plain": [
              "array([[1, 0, 0, 0],\n",
              "       [0, 2, 0, 0],\n",
              "       [0, 0, 3, 0],\n",
              "       [0, 0, 0, 4]])"
            ]
          },
          "execution_count": 30,
          "metadata": {},
          "output_type": "execute_result"
        }
      ],
      "source": [
        "arr6 = np.diag(np.array([1,2,3,4]))\n",
        "arr6"
      ]
    },
    {
      "cell_type": "code",
      "execution_count": null,
      "metadata": {
        "colab": {
          "base_uri": "https://localhost:8080/"
        },
        "id": "e-KN3nEdizhG",
        "outputId": "04009d34-fd95-47c9-b560-4848b53f9169"
      },
      "outputs": [
        {
          "name": "stdout",
          "output_type": "stream",
          "text": [
            "[0.   0.25 0.5  0.75 1.  ]\n"
          ]
        }
      ],
      "source": [
        "# Cria um array de numeros espaçados igualmente dentro do intervalo definido\n",
        "# (Inicio, Fim, Qntd de numeros)\n",
        "print(np.linspace(0,1,5))"
      ]
    },
    {
      "cell_type": "code",
      "execution_count": null,
      "metadata": {
        "colab": {
          "base_uri": "https://localhost:8080/"
        },
        "id": "-dE9Eoc3izeN",
        "outputId": "05bfa0a8-d64e-4ed9-a0a4-52f2841aedc2"
      },
      "outputs": [
        {
          "name": "stdout",
          "output_type": "stream",
          "text": [
            "[ 1.          1.04811313  1.09854114  1.1513954   1.20679264  1.26485522\n",
            "  1.32571137  1.38949549  1.45634848  1.52641797  1.59985872  1.67683294\n",
            "  1.75751062  1.84206997  1.93069773  2.02358965  2.12095089  2.22299648\n",
            "  2.32995181  2.44205309  2.55954792  2.6826958   2.8117687   2.9470517\n",
            "  3.0888436   3.23745754  3.39322177  3.55648031  3.72759372  3.90693994\n",
            "  4.09491506  4.29193426  4.49843267  4.71486636  4.94171336  5.17947468\n",
            "  5.42867544  5.68986603  5.96362332  6.25055193  6.55128557  6.86648845\n",
            "  7.19685673  7.54312006  7.90604321  8.28642773  8.68511374  9.10298178\n",
            "  9.54095476 10.        ]\n"
          ]
        }
      ],
      "source": [
        "# Cria um array de numeros aleatórios dentro do intervalo escolhido em função logaritmica\n",
        "print(np.logspace(0,1))"
      ]
    },
    {
      "cell_type": "code",
      "execution_count": null,
      "metadata": {
        "colab": {
          "base_uri": "https://localhost:8080/"
        },
        "id": "eoyWcoQ5izbf",
        "outputId": "cdb2f257-5b8a-441b-de42-43488f85c68b"
      },
      "outputs": [
        {
          "data": {
            "text/plain": [
              "array([[1, 2, 3],\n",
              "       [4, 5, 6]])"
            ]
          },
          "execution_count": 36,
          "metadata": {},
          "output_type": "execute_result"
        }
      ],
      "source": [
        "# Manipulando matrizes numpy\n",
        "arr9 = np.array([[1,2,3],[4,5,6]])\n",
        "arr9"
      ]
    },
    {
      "cell_type": "code",
      "execution_count": null,
      "metadata": {
        "colab": {
          "base_uri": "https://localhost:8080/"
        },
        "id": "PCoBO_JaizYi",
        "outputId": "78269cf7-e382-4204-b598-997b8754803a"
      },
      "outputs": [
        {
          "data": {
            "text/plain": [
              "(2, 3)"
            ]
          },
          "execution_count": 38,
          "metadata": {},
          "output_type": "execute_result"
        }
      ],
      "source": [
        "type(arr9)\n",
        "arr9.shape\n",
        "# array em 2d, 2 linhas e 3 colunas"
      ]
    },
    {
      "cell_type": "code",
      "execution_count": null,
      "metadata": {
        "colab": {
          "base_uri": "https://localhost:8080/"
        },
        "id": "C4_rj_btizVl",
        "outputId": "18d5a19c-64a7-4eed-f378-f1d589754d7b"
      },
      "outputs": [
        {
          "data": {
            "text/plain": [
              "array([[1., 1., 1., 1., 1.],\n",
              "       [1., 1., 1., 1., 1.]])"
            ]
          },
          "execution_count": 39,
          "metadata": {},
          "output_type": "execute_result"
        }
      ],
      "source": [
        "arr10 = np.ones((2,5))\n",
        "arr10"
      ]
    },
    {
      "cell_type": "code",
      "execution_count": null,
      "metadata": {
        "id": "IH4VjWoeizSl"
      },
      "outputs": [],
      "source": [
        "# Operações matemáticas: matrix\n",
        "# Armazenamento de dados: array"
      ]
    },
    {
      "cell_type": "code",
      "execution_count": null,
      "metadata": {
        "colab": {
          "base_uri": "https://localhost:8080/"
        },
        "id": "3JmLlBh-izQg",
        "outputId": "fe4b6ebc-6f61-43ea-ca0a-478f71dd12df"
      },
      "outputs": [
        {
          "data": {
            "text/plain": [
              "matrix([[  1,   2,   3],\n",
              "        [ 10,  20,  30],\n",
              "        [100, 200, 300]])"
            ]
          },
          "execution_count": 40,
          "metadata": {},
          "output_type": "execute_result"
        }
      ],
      "source": [
        "lista = [[1,2,3],[10,20,30],[100,200,300]]\n",
        "arr11 = np.matrix(lista)\n",
        "arr11"
      ]
    },
    {
      "cell_type": "code",
      "execution_count": null,
      "metadata": {
        "colab": {
          "base_uri": "https://localhost:8080/"
        },
        "id": "EEoj6vf4izM-",
        "outputId": "c711eb6b-51e0-46c8-a410-6812da7364e4"
      },
      "outputs": [
        {
          "data": {
            "text/plain": [
              "(3, 3)"
            ]
          },
          "execution_count": 41,
          "metadata": {},
          "output_type": "execute_result"
        }
      ],
      "source": [
        "np.shape(arr11)"
      ]
    },
    {
      "cell_type": "code",
      "execution_count": null,
      "metadata": {
        "colab": {
          "base_uri": "https://localhost:8080/"
        },
        "id": "xoiso4w_izIP",
        "outputId": "558ddd46-53e2-4bbe-c837-cb1a6815ed3b"
      },
      "outputs": [
        {
          "data": {
            "text/plain": [
              "9"
            ]
          },
          "execution_count": 44,
          "metadata": {},
          "output_type": "execute_result"
        }
      ],
      "source": [
        "np.size(arr11)"
      ]
    },
    {
      "cell_type": "code",
      "execution_count": null,
      "metadata": {
        "colab": {
          "base_uri": "https://localhost:8080/"
        },
        "id": "Pue8uFYRrWJP",
        "outputId": "8ba40042-839a-4f96-da14-f3620bf38482"
      },
      "outputs": [
        {
          "data": {
            "text/plain": [
              "200"
            ]
          },
          "execution_count": 45,
          "metadata": {},
          "output_type": "execute_result"
        }
      ],
      "source": [
        "arr11[2,1]"
      ]
    },
    {
      "cell_type": "code",
      "execution_count": null,
      "metadata": {
        "colab": {
          "base_uri": "https://localhost:8080/"
        },
        "id": "pPMBjpAZrWGk",
        "outputId": "ede541d7-4327-4ed6-e023-183af9659ac6"
      },
      "outputs": [
        {
          "data": {
            "text/plain": [
              "matrix([[ 3],\n",
              "        [30]])"
            ]
          },
          "execution_count": 46,
          "metadata": {},
          "output_type": "execute_result"
        }
      ],
      "source": [
        "arr11[0:2,2]"
      ]
    },
    {
      "cell_type": "code",
      "execution_count": null,
      "metadata": {
        "colab": {
          "base_uri": "https://localhost:8080/"
        },
        "id": "9VOwomwarWDf",
        "outputId": "ccdba3f0-b1d7-4b47-c331-42d7cec54c1e"
      },
      "outputs": [
        {
          "data": {
            "text/plain": [
              "matrix([[10, 20, 30]])"
            ]
          },
          "execution_count": 49,
          "metadata": {},
          "output_type": "execute_result"
        }
      ],
      "source": [
        "arr11[1,]"
      ]
    },
    {
      "cell_type": "code",
      "execution_count": null,
      "metadata": {
        "id": "Np1a-uGSrWBW"
      },
      "outputs": [],
      "source": [
        "# Cria um array numpy de 3 dimensões\n",
        "arr_3d = np.array([\n",
        "    [\n",
        "        [1, 2, 3, 4],\n",
        "        [5, 6, 7, 8],\n",
        "        [9, 10, 11, 12]\n",
        "    ],\n",
        "    [\n",
        "        [13, 14, 15, 16],\n",
        "        [17, 18, 19, 20],\n",
        "        [21, 22, 23, 24]\n",
        "    ]\n",
        "])"
      ]
    },
    {
      "cell_type": "code",
      "execution_count": null,
      "metadata": {
        "colab": {
          "base_uri": "https://localhost:8080/"
        },
        "id": "IzY8-7-NrV_L",
        "outputId": "0ed2f1df-e718-44d1-94e9-86ebe756e621"
      },
      "outputs": [
        {
          "data": {
            "text/plain": [
              "array([[[ 1,  2,  3,  4],\n",
              "        [ 5,  6,  7,  8],\n",
              "        [ 9, 10, 11, 12]],\n",
              "\n",
              "       [[13, 14, 15, 16],\n",
              "        [17, 18, 19, 20],\n",
              "        [21, 22, 23, 24]]])"
            ]
          },
          "execution_count": 51,
          "metadata": {},
          "output_type": "execute_result"
        }
      ],
      "source": [
        "arr_3d"
      ]
    },
    {
      "cell_type": "code",
      "execution_count": null,
      "metadata": {
        "id": "nX54Wul9rV68"
      },
      "outputs": [],
      "source": [
        "# Cria um array numpy de 4 dimensões\n",
        "arr_4d = np.array([\n",
        "    [\n",
        "        [\n",
        "            [1, 2, 3, 4, 5],\n",
        "            [6, 7, 8, 9, 10],\n",
        "            [11, 12, 13, 14, 15],\n",
        "            [16, 17, 18, 19, 20]\n",
        "        ],\n",
        "        [\n",
        "            [21, 22, 23, 24, 25],\n",
        "            [26, 27, 28, 29, 30],\n",
        "            [31, 32, 33, 34, 35],\n",
        "            [36, 37, 38, 39, 40]\n",
        "        ],\n",
        "        [\n",
        "            [41, 42, 43, 44, 45],\n",
        "            [46, 47, 48, 49, 50],\n",
        "            [51, 52, 53, 54, 55],\n",
        "            [56, 57, 58, 59, 60]\n",
        "        ]\n",
        "    ],\n",
        "    [\n",
        "        [\n",
        "            [61, 62, 63, 64, 65],\n",
        "            [66, 67, 68, 69, 70],\n",
        "            [71, 72, 73, 74, 75],\n",
        "            [76, 77, 78, 79, 80]\n",
        "        ],\n",
        "        [\n",
        "            [81, 82, 83, 84, 85],\n",
        "            [86, 87, 88, 89, 90],\n",
        "            [91, 92, 93, 94, 95],\n",
        "            [96, 97, 98, 99, 100]\n",
        "        ],\n",
        "        [\n",
        "            [101, 102, 103, 104, 105],\n",
        "            [106, 107, 108, 109, 110],\n",
        "            [111, 112, 113, 114, 115],\n",
        "            [116, 117, 118, 119, 120]\n",
        "        ]\n",
        "    ]\n",
        "])"
      ]
    },
    {
      "cell_type": "code",
      "execution_count": null,
      "metadata": {
        "colab": {
          "base_uri": "https://localhost:8080/"
        },
        "id": "i9ztwBgSrV4k",
        "outputId": "7ecc273a-13d9-44aa-9f60-0314f2f48c02"
      },
      "outputs": [
        {
          "name": "stdout",
          "output_type": "stream",
          "text": [
            "[[[[  1   2   3   4   5]\n",
            "   [  6   7   8   9  10]\n",
            "   [ 11  12  13  14  15]\n",
            "   [ 16  17  18  19  20]]\n",
            "\n",
            "  [[ 21  22  23  24  25]\n",
            "   [ 26  27  28  29  30]\n",
            "   [ 31  32  33  34  35]\n",
            "   [ 36  37  38  39  40]]\n",
            "\n",
            "  [[ 41  42  43  44  45]\n",
            "   [ 46  47  48  49  50]\n",
            "   [ 51  52  53  54  55]\n",
            "   [ 56  57  58  59  60]]]\n",
            "\n",
            "\n",
            " [[[ 61  62  63  64  65]\n",
            "   [ 66  67  68  69  70]\n",
            "   [ 71  72  73  74  75]\n",
            "   [ 76  77  78  79  80]]\n",
            "\n",
            "  [[ 81  82  83  84  85]\n",
            "   [ 86  87  88  89  90]\n",
            "   [ 91  92  93  94  95]\n",
            "   [ 96  97  98  99 100]]\n",
            "\n",
            "  [[101 102 103 104 105]\n",
            "   [106 107 108 109 110]\n",
            "   [111 112 113 114 115]\n",
            "   [116 117 118 119 120]]]]\n"
          ]
        }
      ],
      "source": [
        "print(arr_4d)"
      ]
    },
    {
      "cell_type": "code",
      "execution_count": null,
      "metadata": {
        "id": "381m6uWKrV0x"
      },
      "outputs": [],
      "source": [
        "import os\n",
        "filename = os.path.join('dataset.csv')"
      ]
    },
    {
      "cell_type": "code",
      "execution_count": null,
      "metadata": {
        "colab": {
          "base_uri": "https://localhost:8080/"
        },
        "id": "oXzEH0_rrVrh",
        "outputId": "ec7512c1-655a-4a09-a3c8-37db212bce67"
      },
      "outputs": [
        {
          "name": "stdout",
          "output_type": "stream",
          "text": [
            "sepal_length,sepal_width,petal_length,petal_width,species\n",
            "5.1,3.5,1.4,0.2,setosa\n",
            "4.9,3,1.4,0.2,setosa\n",
            "4.7,3.2,1.3,0.2,setosa\n",
            "4.6,3.1,1.5,0.2,setosa\n",
            "5,3.6,1.4,0.2,setosa\n",
            "5.4,3.9,1.7,0.4,setosa\n",
            "4.6,3.4,1.4,0.3,setosa\n",
            "5,3.4,1.5,0.2,setosa\n",
            "4.4,2.9,1.4,0.2,setosa\n",
            "4.9,3.1,1.5,0.1,setosa\n",
            "5.4,3.7,1.5,0.2,setosa\n",
            "4.8,3.4,1.6,0.2,setosa\n",
            "4.8,3,1.4,0.1,setosa\n",
            "4.3,3,1.1,0.1,setosa\n",
            "5.8,4,1.2,0.2,setosa\n",
            "5.7,4.4,1.5,0.4,setosa\n",
            "5.4,3.9,1.3,0.4,setosa\n",
            "5.1,3.5,1.4,0.3,setosa\n",
            "5.7,3.8,1.7,0.3,setosa\n",
            "5.1,3.8,1.5,0.3,setosa\n",
            "5.4,3.4,1.7,0.2,setosa\n",
            "5.1,3.7,1.5,0.4,setosa\n",
            "\u001b[K"
          ]
        }
      ],
      "source": [
        "# No Windows use !more dataset.csv. Mac ou Linux use !head dataset.csv\n",
        "#!head dataset.csv\n",
        "!more dataset.csv"
      ]
    },
    {
      "cell_type": "code",
      "execution_count": null,
      "metadata": {
        "id": "fNOciJGVrVmb"
      },
      "outputs": [],
      "source": [
        "# Carregando um dataset para dentro de um array\n",
        "arr13 = np.loadtxt(filename, delimiter = ',', usecols = (0,1,2,3), skiprows = 1)"
      ]
    },
    {
      "cell_type": "code",
      "execution_count": null,
      "metadata": {
        "id": "yYVKwlW8rVkB"
      },
      "outputs": [],
      "source": [
        "arr13"
      ]
    },
    {
      "cell_type": "code",
      "execution_count": null,
      "metadata": {
        "id": "nfm-CAyBrVc2"
      },
      "outputs": [],
      "source": []
    },
    {
      "cell_type": "code",
      "execution_count": null,
      "metadata": {
        "id": "hCQdB4zirVab"
      },
      "outputs": [],
      "source": []
    },
    {
      "cell_type": "code",
      "execution_count": null,
      "metadata": {
        "id": "tI99xA2prVYa"
      },
      "outputs": [],
      "source": []
    },
    {
      "cell_type": "code",
      "execution_count": null,
      "metadata": {
        "id": "f6r-SwgSrVU4"
      },
      "outputs": [],
      "source": []
    },
    {
      "cell_type": "code",
      "execution_count": null,
      "metadata": {
        "id": "jhfd8IQVrSWi"
      },
      "outputs": [],
      "source": []
    }
  ],
  "metadata": {
    "colab": {
      "provenance": []
    },
    "kernelspec": {
      "display_name": "Python 3",
      "name": "python3"
    }
  },
  "nbformat": 4,
  "nbformat_minor": 0
}
