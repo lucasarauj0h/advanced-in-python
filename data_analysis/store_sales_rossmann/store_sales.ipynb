{
 "cells": [
  {
   "cell_type": "markdown",
   "metadata": {},
   "source": [
    "# Introdução\n",
    "\n",
    "\n",
    "A Rossmann, com mais de 3.000 farmácias em sete países europeus, está encarando um desafio e tanto: prever as vendas diárias com até seis semanas de antecedência. Nossos gerentes de loja estão no front dessa missão, considerando fatores como promoções, competição, feriados escolares, sazonalidade e localidade. O detalhe é que cada gerente prevê com base em suas próprias situações, o que gera uma certa variação nos resultados.\n",
    "\n",
    "Neste contexto, a precisão das previsões de vendas pode variar significativamente, uma vez que cada gerente prediz as vendas com base em suas circunstâncias únicas. Com o intuito de aprimorar esse processo, a Rossmann lançou seu primeiro desafio no Kaggle, convocando profissionais de Data Science para desenvolverem modelos preditivos robustos.\n",
    "\n",
    "## Ojbetivo principal\n",
    "\n",
    "- Aqui, enfrentamos o desafio de prever com precisão as vendas diárias de mais de 1.100 lojas da Rossmann na Alemanha, ao longo de um período de seis semanas. Por quê? Porque essas previsões são cruciais para que os gerentes de loja possam elaborar escalas de trabalho eficientes, o que, por sua vez, impulsiona a produtividade e a motivação das equipes.\n",
    "\n",
    "- A avaliação do desempenho dos modelos será feita por meio da métrica Root Mean Square Percentage Error (RMSPE). Essa métrica garante que as previsões estejam o mais próximas possível das vendas reais, com uma penalização mais significativa para erros percentuais maiores. Importante notar que durante a avaliação, dias e lojas sem vendas serão excluídos, alinhando-se à operação prática da Rossmann."
   ]
  },
  {
   "cell_type": "code",
   "execution_count": 21,
   "metadata": {},
   "outputs": [],
   "source": [
    "## Helper Functions"
   ]
  },
  {
   "cell_type": "markdown",
   "metadata": {},
   "source": [
    "## DATA"
   ]
  },
  {
   "cell_type": "code",
   "execution_count": 1,
   "metadata": {},
   "outputs": [],
   "source": [
    "# Caminho dos arquivos\n",
    "caminho_store = r'C:\\Users\\daler\\Downloads\\rossmann-store-sales\\store.csv'\n",
    "caminho_train = r'C:\\Users\\daler\\Downloads\\rossmann-store-sales\\train.csv'\n",
    "caminho_test = r'C:\\Users\\daler\\Downloads\\rossmann-store-sales\\test.csv'"
   ]
  },
  {
   "cell_type": "code",
   "execution_count": 31,
   "metadata": {},
   "outputs": [],
   "source": [
    "import warnings\n",
    "warnings.filterwarnings(\"ignore\")\n",
    "import pandas as pd\n",
    "from matplotlib import pyplot as plt\n",
    "import seaborn as sns\n",
    "import numpy as np\n",
    "import math\n",
    "import inflection\n",
    "\n",
    "# Desativar todos os warnings"
   ]
  },
  {
   "cell_type": "code",
   "execution_count": 4,
   "metadata": {},
   "outputs": [],
   "source": [
    "df_sales = pd.read_csv(caminho_train, low_memory=False, encoding='utf-8')\n",
    "df_store = pd.read_csv(caminho_store, low_memory=False, encoding='utf-8')"
   ]
  },
  {
   "cell_type": "code",
   "execution_count": 5,
   "metadata": {},
   "outputs": [],
   "source": [
    "# merge\n",
    "df = pd.merge(df_sales, df_store, how='left', on='Store')"
   ]
  },
  {
   "cell_type": "code",
   "execution_count": 6,
   "metadata": {},
   "outputs": [
    {
     "data": {
      "text/html": [
       "<div>\n",
       "<style scoped>\n",
       "    .dataframe tbody tr th:only-of-type {\n",
       "        vertical-align: middle;\n",
       "    }\n",
       "\n",
       "    .dataframe tbody tr th {\n",
       "        vertical-align: top;\n",
       "    }\n",
       "\n",
       "    .dataframe thead th {\n",
       "        text-align: right;\n",
       "    }\n",
       "</style>\n",
       "<table border=\"1\" class=\"dataframe\">\n",
       "  <thead>\n",
       "    <tr style=\"text-align: right;\">\n",
       "      <th></th>\n",
       "      <th>Store</th>\n",
       "      <th>DayOfWeek</th>\n",
       "      <th>Date</th>\n",
       "      <th>Sales</th>\n",
       "      <th>Customers</th>\n",
       "      <th>Open</th>\n",
       "      <th>Promo</th>\n",
       "      <th>StateHoliday</th>\n",
       "      <th>SchoolHoliday</th>\n",
       "      <th>StoreType</th>\n",
       "      <th>Assortment</th>\n",
       "      <th>CompetitionDistance</th>\n",
       "      <th>CompetitionOpenSinceMonth</th>\n",
       "      <th>CompetitionOpenSinceYear</th>\n",
       "      <th>Promo2</th>\n",
       "      <th>Promo2SinceWeek</th>\n",
       "      <th>Promo2SinceYear</th>\n",
       "      <th>PromoInterval</th>\n",
       "    </tr>\n",
       "  </thead>\n",
       "  <tbody>\n",
       "    <tr>\n",
       "      <th>0</th>\n",
       "      <td>1</td>\n",
       "      <td>5</td>\n",
       "      <td>2015-07-31</td>\n",
       "      <td>5263</td>\n",
       "      <td>555</td>\n",
       "      <td>1</td>\n",
       "      <td>1</td>\n",
       "      <td>0</td>\n",
       "      <td>1</td>\n",
       "      <td>c</td>\n",
       "      <td>a</td>\n",
       "      <td>1270.0</td>\n",
       "      <td>9.0</td>\n",
       "      <td>2008.0</td>\n",
       "      <td>0</td>\n",
       "      <td>NaN</td>\n",
       "      <td>NaN</td>\n",
       "      <td>NaN</td>\n",
       "    </tr>\n",
       "    <tr>\n",
       "      <th>1</th>\n",
       "      <td>2</td>\n",
       "      <td>5</td>\n",
       "      <td>2015-07-31</td>\n",
       "      <td>6064</td>\n",
       "      <td>625</td>\n",
       "      <td>1</td>\n",
       "      <td>1</td>\n",
       "      <td>0</td>\n",
       "      <td>1</td>\n",
       "      <td>a</td>\n",
       "      <td>a</td>\n",
       "      <td>570.0</td>\n",
       "      <td>11.0</td>\n",
       "      <td>2007.0</td>\n",
       "      <td>1</td>\n",
       "      <td>13.0</td>\n",
       "      <td>2010.0</td>\n",
       "      <td>Jan,Apr,Jul,Oct</td>\n",
       "    </tr>\n",
       "  </tbody>\n",
       "</table>\n",
       "</div>"
      ],
      "text/plain": [
       "   Store  DayOfWeek        Date  Sales  Customers  Open  Promo StateHoliday  \\\n",
       "0      1          5  2015-07-31   5263        555     1      1            0   \n",
       "1      2          5  2015-07-31   6064        625     1      1            0   \n",
       "\n",
       "   SchoolHoliday StoreType Assortment  CompetitionDistance  \\\n",
       "0              1         c          a               1270.0   \n",
       "1              1         a          a                570.0   \n",
       "\n",
       "   CompetitionOpenSinceMonth  CompetitionOpenSinceYear  Promo2  \\\n",
       "0                        9.0                    2008.0       0   \n",
       "1                       11.0                    2007.0       1   \n",
       "\n",
       "   Promo2SinceWeek  Promo2SinceYear    PromoInterval  \n",
       "0              NaN              NaN              NaN  \n",
       "1             13.0           2010.0  Jan,Apr,Jul,Oct  "
      ]
     },
     "execution_count": 6,
     "metadata": {},
     "output_type": "execute_result"
    }
   ],
   "source": [
    "df.head(2)"
   ]
  },
  {
   "cell_type": "code",
   "execution_count": 79,
   "metadata": {},
   "outputs": [],
   "source": [
    "# Fazendo backup do dataframe\n",
    "df1 = df.copy()"
   ]
  },
  {
   "cell_type": "markdown",
   "metadata": {},
   "source": [
    "### Mudança de atributos"
   ]
  },
  {
   "cell_type": "code",
   "execution_count": 80,
   "metadata": {},
   "outputs": [
    {
     "data": {
      "text/plain": [
       "Index(['Store', 'DayOfWeek', 'Date', 'Sales', 'Customers', 'Open', 'Promo',\n",
       "       'StateHoliday', 'SchoolHoliday', 'StoreType', 'Assortment',\n",
       "       'CompetitionDistance', 'CompetitionOpenSinceMonth',\n",
       "       'CompetitionOpenSinceYear', 'Promo2', 'Promo2SinceWeek',\n",
       "       'Promo2SinceYear', 'PromoInterval'],\n",
       "      dtype='object')"
      ]
     },
     "execution_count": 80,
     "metadata": {},
     "output_type": "execute_result"
    }
   ],
   "source": [
    "df.columns"
   ]
  },
  {
   "cell_type": "code",
   "execution_count": 81,
   "metadata": {},
   "outputs": [],
   "source": [
    "cols_old = ['Store', 'DayOfWeek', 'Date', 'Sales', 'Customers', 'Open', 'Promo', 'StateHoliday', 'SchoolHoliday',\n",
    "           'StoreType', 'Assortment', 'CompetitionDistance', 'CompetitionOpenSinceMonth',\n",
    "          'CompetitionOpenSinceYear', 'Promo2', 'Promo2SinceWeek', 'Promo2SinceYear', 'PromoInterval']\n",
    "snakecase = lambda x: inflection.underscore(x)\n",
    "\n",
    "cols_new = list(map(snakecase, cols_old))\n",
    "\n",
    "# Renomenado\n",
    "\n",
    "df1.columns = cols_new"
   ]
  },
  {
   "cell_type": "code",
   "execution_count": 82,
   "metadata": {},
   "outputs": [
    {
     "data": {
      "text/plain": [
       "(1017209, 18)"
      ]
     },
     "execution_count": 82,
     "metadata": {},
     "output_type": "execute_result"
    }
   ],
   "source": [
    "df1.shape"
   ]
  },
  {
   "cell_type": "code",
   "execution_count": 83,
   "metadata": {},
   "outputs": [
    {
     "data": {
      "text/plain": [
       "store                             int64\n",
       "day_of_week                       int64\n",
       "date                             object\n",
       "sales                             int64\n",
       "customers                         int64\n",
       "open                              int64\n",
       "promo                             int64\n",
       "state_holiday                    object\n",
       "school_holiday                    int64\n",
       "store_type                       object\n",
       "assortment                       object\n",
       "competition_distance            float64\n",
       "competition_open_since_month    float64\n",
       "competition_open_since_year     float64\n",
       "promo2                            int64\n",
       "promo2_since_week               float64\n",
       "promo2_since_year               float64\n",
       "promo_interval                   object\n",
       "dtype: object"
      ]
     },
     "execution_count": 83,
     "metadata": {},
     "output_type": "execute_result"
    }
   ],
   "source": [
    "df1.dtypes"
   ]
  },
  {
   "cell_type": "code",
   "execution_count": 84,
   "metadata": {},
   "outputs": [
    {
     "data": {
      "text/plain": [
       "(1017209, 18)"
      ]
     },
     "execution_count": 84,
     "metadata": {},
     "output_type": "execute_result"
    }
   ],
   "source": [
    "df1.shape"
   ]
  },
  {
   "cell_type": "code",
   "execution_count": 85,
   "metadata": {},
   "outputs": [
    {
     "data": {
      "text/plain": [
       "store                             int64\n",
       "day_of_week                       int64\n",
       "date                             object\n",
       "sales                             int64\n",
       "customers                         int64\n",
       "open                              int64\n",
       "promo                             int64\n",
       "state_holiday                    object\n",
       "school_holiday                    int64\n",
       "store_type                       object\n",
       "assortment                       object\n",
       "competition_distance            float64\n",
       "competition_open_since_month    float64\n",
       "competition_open_since_year     float64\n",
       "promo2                            int64\n",
       "promo2_since_week               float64\n",
       "promo2_since_year               float64\n",
       "promo_interval                   object\n",
       "dtype: object"
      ]
     },
     "execution_count": 85,
     "metadata": {},
     "output_type": "execute_result"
    }
   ],
   "source": [
    "df1.dtypes"
   ]
  },
  {
   "cell_type": "markdown",
   "metadata": {},
   "source": [
    "- Algumas variáveis estão com formato (tipo) de dados não adequados corretamente. A seguir será feita uma correção dos tipos desses dados"
   ]
  },
  {
   "cell_type": "markdown",
   "metadata": {},
   "source": [
    "Para realizar a mudança dos tipos de dados, será utilizado modulos importados\n",
    "\n",
    "Os módulos a seguir foram criados durante o curso de Formação Analista de Dados (FADA) da Data Science Academy com auxilio do professor em video aula\n",
    "\n",
    "Os módulos se tratam de técnicas de tratamento de dados que podem ser reutilizadas em diferentes casos e análises, sendo necessária somente a importação do mesmo\n",
    "\n",
    "A seguir segue a descrição de cada módulo\n",
    "\n",
    "valores_ausentes.py -\n",
    "- identifica a porcentagem de valores ausentes\n",
    "- diversas funções com técnicas de tratamentos dos valores ausentes, sendo elas:\n",
    "    - imputação (bfill, ffill, media e mediana)\n",
    "    - drop de linhas ou colunas\n",
    "\n",
    "conversao.py - Modulos de conversão dos tipos de dados para\n",
    "- data\n",
    "- string\n",
    "- int64\n",
    "- fator\n",
    "\n",
    "outliers.py -\n",
    "- identifica a porcentagem de outliers\n",
    "- realiza o tratamento desses outliers (podendo ser o drop/exclusão dos mesmos, ou replace/modificação)\n"
   ]
  },
  {
   "cell_type": "code",
   "execution_count": 86,
   "metadata": {},
   "outputs": [],
   "source": [
    "from tratamento_dados.conversao import *\n",
    "from tratamento_dados.outliers import *\n",
    "from tratamento_dados.valores_ausentes import *"
   ]
  },
  {
   "cell_type": "code",
   "execution_count": 87,
   "metadata": {},
   "outputs": [],
   "source": [
    "# Convertendo a coluna data para o tipo datetime\n",
    "convert_to_datetime(df1, ['date'])"
   ]
  },
  {
   "cell_type": "code",
   "execution_count": 88,
   "metadata": {},
   "outputs": [
    {
     "name": "stdout",
     "output_type": "stream",
     "text": [
      "O dataset tem 11.87 % de valores ausentes.\n"
     ]
    }
   ],
   "source": [
    "func_calc_percentual_valores_ausentes(df1)"
   ]
  },
  {
   "cell_type": "code",
   "execution_count": null,
   "metadata": {},
   "outputs": [],
   "source": [
    "func_calc_percentual_valores_ausentes_linha(df1)"
   ]
  },
  {
   "cell_type": "code",
   "execution_count": 90,
   "metadata": {},
   "outputs": [
    {
     "name": "stdout",
     "output_type": "stream",
     "text": [
      "O dataset tem 18 colunas.\n",
      "Encontrado: 6 colunas que têm valores ausentes.\n"
     ]
    },
    {
     "data": {
      "text/html": [
       "<div>\n",
       "<style scoped>\n",
       "    .dataframe tbody tr th:only-of-type {\n",
       "        vertical-align: middle;\n",
       "    }\n",
       "\n",
       "    .dataframe tbody tr th {\n",
       "        vertical-align: top;\n",
       "    }\n",
       "\n",
       "    .dataframe thead th {\n",
       "        text-align: right;\n",
       "    }\n",
       "</style>\n",
       "<table border=\"1\" class=\"dataframe\">\n",
       "  <thead>\n",
       "    <tr style=\"text-align: right;\">\n",
       "      <th></th>\n",
       "      <th>Valores Ausentes</th>\n",
       "      <th>% de Valores Ausentes</th>\n",
       "      <th>Dtype</th>\n",
       "    </tr>\n",
       "  </thead>\n",
       "  <tbody>\n",
       "    <tr>\n",
       "      <th>promo2_since_week</th>\n",
       "      <td>508031</td>\n",
       "      <td>49.940</td>\n",
       "      <td>float64</td>\n",
       "    </tr>\n",
       "    <tr>\n",
       "      <th>promo2_since_year</th>\n",
       "      <td>508031</td>\n",
       "      <td>49.940</td>\n",
       "      <td>float64</td>\n",
       "    </tr>\n",
       "    <tr>\n",
       "      <th>promo_interval</th>\n",
       "      <td>508031</td>\n",
       "      <td>49.940</td>\n",
       "      <td>object</td>\n",
       "    </tr>\n",
       "    <tr>\n",
       "      <th>competition_open_since_month</th>\n",
       "      <td>323348</td>\n",
       "      <td>31.790</td>\n",
       "      <td>float64</td>\n",
       "    </tr>\n",
       "    <tr>\n",
       "      <th>competition_open_since_year</th>\n",
       "      <td>323348</td>\n",
       "      <td>31.790</td>\n",
       "      <td>float64</td>\n",
       "    </tr>\n",
       "    <tr>\n",
       "      <th>competition_distance</th>\n",
       "      <td>2642</td>\n",
       "      <td>0.260</td>\n",
       "      <td>float64</td>\n",
       "    </tr>\n",
       "  </tbody>\n",
       "</table>\n",
       "</div>"
      ],
      "text/plain": [
       "                              Valores Ausentes  % de Valores Ausentes    Dtype\n",
       "promo2_since_week                       508031                 49.940  float64\n",
       "promo2_since_year                       508031                 49.940  float64\n",
       "promo_interval                          508031                 49.940   object\n",
       "competition_open_since_month            323348                 31.790  float64\n",
       "competition_open_since_year             323348                 31.790  float64\n",
       "competition_distance                      2642                  0.260  float64"
      ]
     },
     "execution_count": 90,
     "metadata": {},
     "output_type": "execute_result"
    }
   ],
   "source": [
    "func_calc_percentual_valores_ausentes_coluna(df1)"
   ]
  },
  {
   "cell_type": "markdown",
   "metadata": {},
   "source": [
    "### Preenchendo valores ausentes"
   ]
  },
  {
   "cell_type": "markdown",
   "metadata": {},
   "source": [
    "#### competition_distance \n",
    "\n",
    "competition_distance: distance in meters to the nearest competitor store\n",
    "\n",
    "Essa coluna descreve a distancia em metros do competidor mais próximo da loja"
   ]
  },
  {
   "cell_type": "code",
   "execution_count": 91,
   "metadata": {},
   "outputs": [],
   "source": [
    "# Configuração para exibir números sem notação científica\n",
    "pd.set_option('display.float_format', lambda x: '%.3f' % x)"
   ]
  },
  {
   "cell_type": "code",
   "execution_count": 92,
   "metadata": {},
   "outputs": [
    {
     "data": {
      "text/plain": [
       "count   1014567.000\n",
       "mean       5430.086\n",
       "std        7715.324\n",
       "min          20.000\n",
       "25%         710.000\n",
       "50%        2330.000\n",
       "75%        6890.000\n",
       "max       75860.000\n",
       "Name: competition_distance, dtype: float64"
      ]
     },
     "execution_count": 92,
     "metadata": {},
     "output_type": "execute_result"
    }
   ],
   "source": [
    "df1.competition_distance.round(2).describe()"
   ]
  },
  {
   "cell_type": "markdown",
   "metadata": {},
   "source": [
    "- Visualizando a descrição da coluna competition_distance nota-se que não há valores 0 ou -1 (que poderia indicar que não há concorrentes próximos para essa loja). \n",
    "\n",
    "- Adotando que os valores ausentes para os concorrentes são lojas onde não há concorrencia, iremos imputar o valor máximo de distancia encontrado nesta coluna * 2, tentando manter a possivel similaridade entre a movimentação das lojas que não possuem concorrentes, com aquelas que as lojas possuem concorrentes mas eles estão muitos distantes que devem não impactar tanto na loja"
   ]
  },
  {
   "cell_type": "code",
   "execution_count": 93,
   "metadata": {},
   "outputs": [],
   "source": [
    "# tratando competition_distance - distance in meters to the nearest competitor store\n",
    "\n",
    "max_value = df1.competition_distance.max()\n",
    "\n",
    "df1['competition_distance'] = df1['competition_distance'].apply(lambda x: (max_value * 2) if math.isnan(x) else x)"
   ]
  },
  {
   "cell_type": "code",
   "execution_count": 94,
   "metadata": {},
   "outputs": [
    {
     "data": {
      "text/plain": [
       "competition_distance\n",
       "151720.000    2642\n",
       "58260.000      942\n",
       "75860.000      942\n",
       "Name: count, dtype: int64"
      ]
     },
     "execution_count": 94,
     "metadata": {},
     "output_type": "execute_result"
    }
   ],
   "source": [
    "df1['competition_distance'][df1['competition_distance'] > 50000].value_counts() \n",
    "# df1.competition_distance.value_counts().nlargest(20) "
   ]
  },
  {
   "cell_type": "code",
   "execution_count": 95,
   "metadata": {},
   "outputs": [
    {
     "data": {
      "text/plain": [
       "count   1017209.000\n",
       "mean       5810.045\n",
       "std       10715.013\n",
       "min          20.000\n",
       "25%         710.000\n",
       "50%        2330.000\n",
       "75%        6910.000\n",
       "max      151720.000\n",
       "Name: competition_distance, dtype: float64"
      ]
     },
     "execution_count": 95,
     "metadata": {},
     "output_type": "execute_result"
    }
   ],
   "source": [
    "df1.competition_distance.describe()"
   ]
  },
  {
   "cell_type": "markdown",
   "metadata": {},
   "source": [
    "Apesar de impactar um pouco com a coluna competition_distance, a depender do cenário para o qual utilizaremos essas medidas, podemos tratar os outliers afim de minimizar os danos das alterações realizadas."
   ]
  },
  {
   "cell_type": "markdown",
   "metadata": {},
   "source": [
    "- competition_open_since_month - gives the approximate year and month of the time the nearest competitor was opened > data aproximada da abertura da loja do competidor mais próximo\n",
    "\n",
    "- Podemos supor que os valores ausentes nesses dados são por 2 motivos:\n",
    "    - Não há concorrencia próxima.\n",
    "    - No fechamento do dia, ainda não havia concorrencia próxima.\n",
    "    - A loja se instalou depois da concorrencia.\n",
    "\n",
    "- Embora há uma quantidade consideravel de valores ausentes (31%) acredito que essa coluna seja importante para a análise de vendas. A fixação de uma loja concorrente pode afetar de forma agressiva as vendas de uma loja durante um periodo até a estabilização. \n",
    "\n",
    "- Para isso, iremos imputar a data de fechamento do dia"
   ]
  },
  {
   "cell_type": "code",
   "execution_count": 97,
   "metadata": {},
   "outputs": [],
   "source": [
    "df1['date'] = pd.to_datetime(df1['date'], errors='coerce')\n",
    "\n",
    "# Preenchendo os valores nulos em 'competition_open_since_month' com o mês correspondente em 'date'\n",
    "df1['competition_open_since_month'].fillna(df1['date'].dt.month, inplace=True)"
   ]
  },
  {
   "cell_type": "code",
   "execution_count": 101,
   "metadata": {},
   "outputs": [],
   "source": [
    "# Preenchendo os valores nulos em 'competition_open_since_year' com o mês correspondente em 'date'\n",
    "df1['competition_open_since_year'].fillna(df1['date'].dt.year, inplace=True)"
   ]
  },
  {
   "cell_type": "code",
   "execution_count": 102,
   "metadata": {},
   "outputs": [
    {
     "name": "stdout",
     "output_type": "stream",
     "text": [
      "O dataset tem 18 colunas.\n",
      "Encontrado: 3 colunas que têm valores ausentes.\n"
     ]
    },
    {
     "data": {
      "text/html": [
       "<div>\n",
       "<style scoped>\n",
       "    .dataframe tbody tr th:only-of-type {\n",
       "        vertical-align: middle;\n",
       "    }\n",
       "\n",
       "    .dataframe tbody tr th {\n",
       "        vertical-align: top;\n",
       "    }\n",
       "\n",
       "    .dataframe thead th {\n",
       "        text-align: right;\n",
       "    }\n",
       "</style>\n",
       "<table border=\"1\" class=\"dataframe\">\n",
       "  <thead>\n",
       "    <tr style=\"text-align: right;\">\n",
       "      <th></th>\n",
       "      <th>Valores Ausentes</th>\n",
       "      <th>% de Valores Ausentes</th>\n",
       "      <th>Dtype</th>\n",
       "    </tr>\n",
       "  </thead>\n",
       "  <tbody>\n",
       "    <tr>\n",
       "      <th>promo2_since_week</th>\n",
       "      <td>508031</td>\n",
       "      <td>49.940</td>\n",
       "      <td>float64</td>\n",
       "    </tr>\n",
       "    <tr>\n",
       "      <th>promo2_since_year</th>\n",
       "      <td>508031</td>\n",
       "      <td>49.940</td>\n",
       "      <td>float64</td>\n",
       "    </tr>\n",
       "    <tr>\n",
       "      <th>promo_interval</th>\n",
       "      <td>508031</td>\n",
       "      <td>49.940</td>\n",
       "      <td>object</td>\n",
       "    </tr>\n",
       "  </tbody>\n",
       "</table>\n",
       "</div>"
      ],
      "text/plain": [
       "                   Valores Ausentes  % de Valores Ausentes    Dtype\n",
       "promo2_since_week            508031                 49.940  float64\n",
       "promo2_since_year            508031                 49.940  float64\n",
       "promo_interval               508031                 49.940   object"
      ]
     },
     "execution_count": 102,
     "metadata": {},
     "output_type": "execute_result"
    }
   ],
   "source": [
    "func_calc_percentual_valores_ausentes_coluna(df1)"
   ]
  },
  {
   "cell_type": "markdown",
   "metadata": {},
   "source": [
    "- Promo2 - Promo2 is a continuing and consecutive promotion for some stores: 0 = store is not participating, 1 = store is participating\n",
    "\n",
    "- Promo2Since[Year/Week] - describes the year and calendar week when the store started participating in Promo2\n",
    "\n",
    "- Será imputado o dia do fechamento, supondo que os valores ausentes são quando as promoções não continuaram (identificado pela coluna Promo2=0, portanto para aqueles que continuaram contem os dados, e para tratar os ausentes sem ter que excluir a coluna imputaremos o dia do fechamento)\n"
   ]
  },
  {
   "cell_type": "code",
   "execution_count": 104,
   "metadata": {},
   "outputs": [],
   "source": [
    "df1['promo2_since_week'].fillna(df1['date'].dt.isocalendar().week, inplace=True)\n",
    "df1['promo2_since_year'].fillna(df1['date'].dt.year, inplace=True)"
   ]
  },
  {
   "cell_type": "markdown",
   "metadata": {},
   "source": [
    "- promo_interval - describes the consecutive intervals Promo2 is started, naming the months the promotion is started anew. E.g. \"Feb,May,Aug,Nov\" means each round starts in February, May, August, November of any given year for that store\n",
    "\n",
    "- Vamos criar uma coluna de apoio para que possamos verificar se o mês está dentro do intervalo de promoção, e depois criar uma nova coluna identificando se está ocorrendo promoção ou não"
   ]
  },
  {
   "cell_type": "code",
   "execution_count": 105,
   "metadata": {},
   "outputs": [],
   "source": [
    "month_map = {1: \"Jan\", 2: \"Feb\", 3: \"Mar\", 4: \"Apr\", 5: \"May\", 6: \"Jun\", 7: \"Jul\", 8: \"Aug\", 9: \"Sep\", 10: \"Oct\", 11: \"Nov\", 12: \"Dec\"}\n",
    "df1['promo_interval'].fillna(0, inplace=True)"
   ]
  },
  {
   "cell_type": "code",
   "execution_count": 106,
   "metadata": {},
   "outputs": [],
   "source": [
    "df1['month_map'] = df1['date'].dt.month.map(month_map)"
   ]
  },
  {
   "cell_type": "code",
   "execution_count": 107,
   "metadata": {},
   "outputs": [
    {
     "data": {
      "text/html": [
       "<div>\n",
       "<style scoped>\n",
       "    .dataframe tbody tr th:only-of-type {\n",
       "        vertical-align: middle;\n",
       "    }\n",
       "\n",
       "    .dataframe tbody tr th {\n",
       "        vertical-align: top;\n",
       "    }\n",
       "\n",
       "    .dataframe thead th {\n",
       "        text-align: right;\n",
       "    }\n",
       "</style>\n",
       "<table border=\"1\" class=\"dataframe\">\n",
       "  <thead>\n",
       "    <tr style=\"text-align: right;\">\n",
       "      <th></th>\n",
       "      <th>594928</th>\n",
       "      <th>1016926</th>\n",
       "      <th>687543</th>\n",
       "      <th>226946</th>\n",
       "      <th>29989</th>\n",
       "    </tr>\n",
       "  </thead>\n",
       "  <tbody>\n",
       "    <tr>\n",
       "      <th>store</th>\n",
       "      <td>304</td>\n",
       "      <td>832</td>\n",
       "      <td>374</td>\n",
       "      <td>602</td>\n",
       "      <td>1000</td>\n",
       "    </tr>\n",
       "    <tr>\n",
       "      <th>day_of_week</th>\n",
       "      <td>2</td>\n",
       "      <td>2</td>\n",
       "      <td>3</td>\n",
       "      <td>5</td>\n",
       "      <td>7</td>\n",
       "    </tr>\n",
       "    <tr>\n",
       "      <th>date</th>\n",
       "      <td>2014-01-14 00:00:00</td>\n",
       "      <td>2013-01-01 00:00:00</td>\n",
       "      <td>2013-10-23 00:00:00</td>\n",
       "      <td>2015-01-09 00:00:00</td>\n",
       "      <td>2015-07-05 00:00:00</td>\n",
       "    </tr>\n",
       "    <tr>\n",
       "      <th>sales</th>\n",
       "      <td>6461</td>\n",
       "      <td>0</td>\n",
       "      <td>6797</td>\n",
       "      <td>6647</td>\n",
       "      <td>0</td>\n",
       "    </tr>\n",
       "    <tr>\n",
       "      <th>customers</th>\n",
       "      <td>1066</td>\n",
       "      <td>0</td>\n",
       "      <td>863</td>\n",
       "      <td>605</td>\n",
       "      <td>0</td>\n",
       "    </tr>\n",
       "    <tr>\n",
       "      <th>open</th>\n",
       "      <td>1</td>\n",
       "      <td>0</td>\n",
       "      <td>1</td>\n",
       "      <td>1</td>\n",
       "      <td>0</td>\n",
       "    </tr>\n",
       "    <tr>\n",
       "      <th>promo</th>\n",
       "      <td>0</td>\n",
       "      <td>0</td>\n",
       "      <td>1</td>\n",
       "      <td>1</td>\n",
       "      <td>0</td>\n",
       "    </tr>\n",
       "    <tr>\n",
       "      <th>state_holiday</th>\n",
       "      <td>0</td>\n",
       "      <td>a</td>\n",
       "      <td>0</td>\n",
       "      <td>0</td>\n",
       "      <td>0</td>\n",
       "    </tr>\n",
       "    <tr>\n",
       "      <th>school_holiday</th>\n",
       "      <td>0</td>\n",
       "      <td>1</td>\n",
       "      <td>0</td>\n",
       "      <td>1</td>\n",
       "      <td>0</td>\n",
       "    </tr>\n",
       "    <tr>\n",
       "      <th>store_type</th>\n",
       "      <td>a</td>\n",
       "      <td>d</td>\n",
       "      <td>a</td>\n",
       "      <td>a</td>\n",
       "      <td>a</td>\n",
       "    </tr>\n",
       "    <tr>\n",
       "      <th>assortment</th>\n",
       "      <td>a</td>\n",
       "      <td>a</td>\n",
       "      <td>a</td>\n",
       "      <td>a</td>\n",
       "      <td>c</td>\n",
       "    </tr>\n",
       "    <tr>\n",
       "      <th>competition_distance</th>\n",
       "      <td>1950.000</td>\n",
       "      <td>5070.000</td>\n",
       "      <td>1150.000</td>\n",
       "      <td>2710.000</td>\n",
       "      <td>2230.000</td>\n",
       "    </tr>\n",
       "    <tr>\n",
       "      <th>competition_open_since_month</th>\n",
       "      <td>7.000</td>\n",
       "      <td>1.000</td>\n",
       "      <td>9.000</td>\n",
       "      <td>7.000</td>\n",
       "      <td>5.000</td>\n",
       "    </tr>\n",
       "    <tr>\n",
       "      <th>competition_open_since_year</th>\n",
       "      <td>2015.000</td>\n",
       "      <td>2013.000</td>\n",
       "      <td>2007.000</td>\n",
       "      <td>2001.000</td>\n",
       "      <td>2009.000</td>\n",
       "    </tr>\n",
       "    <tr>\n",
       "      <th>promo2</th>\n",
       "      <td>0</td>\n",
       "      <td>1</td>\n",
       "      <td>0</td>\n",
       "      <td>1</td>\n",
       "      <td>1</td>\n",
       "    </tr>\n",
       "    <tr>\n",
       "      <th>promo2_since_week</th>\n",
       "      <td>3.000</td>\n",
       "      <td>45.000</td>\n",
       "      <td>43.000</td>\n",
       "      <td>22.000</td>\n",
       "      <td>40.000</td>\n",
       "    </tr>\n",
       "    <tr>\n",
       "      <th>promo2_since_year</th>\n",
       "      <td>2014.000</td>\n",
       "      <td>2009.000</td>\n",
       "      <td>2013.000</td>\n",
       "      <td>2012.000</td>\n",
       "      <td>2014.000</td>\n",
       "    </tr>\n",
       "    <tr>\n",
       "      <th>promo_interval</th>\n",
       "      <td>0</td>\n",
       "      <td>Feb,May,Aug,Nov</td>\n",
       "      <td>0</td>\n",
       "      <td>Mar,Jun,Sept,Dec</td>\n",
       "      <td>Jan,Apr,Jul,Oct</td>\n",
       "    </tr>\n",
       "    <tr>\n",
       "      <th>month_map</th>\n",
       "      <td>Jan</td>\n",
       "      <td>Jan</td>\n",
       "      <td>Oct</td>\n",
       "      <td>Jan</td>\n",
       "      <td>Jul</td>\n",
       "    </tr>\n",
       "  </tbody>\n",
       "</table>\n",
       "</div>"
      ],
      "text/plain": [
       "                                          594928               1016926  \\\n",
       "store                                         304                  832   \n",
       "day_of_week                                     2                    2   \n",
       "date                          2014-01-14 00:00:00  2013-01-01 00:00:00   \n",
       "sales                                        6461                    0   \n",
       "customers                                    1066                    0   \n",
       "open                                            1                    0   \n",
       "promo                                           0                    0   \n",
       "state_holiday                                   0                    a   \n",
       "school_holiday                                  0                    1   \n",
       "store_type                                      a                    d   \n",
       "assortment                                      a                    a   \n",
       "competition_distance                     1950.000             5070.000   \n",
       "competition_open_since_month                7.000                1.000   \n",
       "competition_open_since_year              2015.000             2013.000   \n",
       "promo2                                          0                    1   \n",
       "promo2_since_week                           3.000               45.000   \n",
       "promo2_since_year                        2014.000             2009.000   \n",
       "promo_interval                                  0      Feb,May,Aug,Nov   \n",
       "month_map                                     Jan                  Jan   \n",
       "\n",
       "                                          687543               226946   \\\n",
       "store                                         374                  602   \n",
       "day_of_week                                     3                    5   \n",
       "date                          2013-10-23 00:00:00  2015-01-09 00:00:00   \n",
       "sales                                        6797                 6647   \n",
       "customers                                     863                  605   \n",
       "open                                            1                    1   \n",
       "promo                                           1                    1   \n",
       "state_holiday                                   0                    0   \n",
       "school_holiday                                  0                    1   \n",
       "store_type                                      a                    a   \n",
       "assortment                                      a                    a   \n",
       "competition_distance                     1150.000             2710.000   \n",
       "competition_open_since_month                9.000                7.000   \n",
       "competition_open_since_year              2007.000             2001.000   \n",
       "promo2                                          0                    1   \n",
       "promo2_since_week                          43.000               22.000   \n",
       "promo2_since_year                        2013.000             2012.000   \n",
       "promo_interval                                  0     Mar,Jun,Sept,Dec   \n",
       "month_map                                     Oct                  Jan   \n",
       "\n",
       "                                          29989    \n",
       "store                                        1000  \n",
       "day_of_week                                     7  \n",
       "date                          2015-07-05 00:00:00  \n",
       "sales                                           0  \n",
       "customers                                       0  \n",
       "open                                            0  \n",
       "promo                                           0  \n",
       "state_holiday                                   0  \n",
       "school_holiday                                  0  \n",
       "store_type                                      a  \n",
       "assortment                                      c  \n",
       "competition_distance                     2230.000  \n",
       "competition_open_since_month                5.000  \n",
       "competition_open_since_year              2009.000  \n",
       "promo2                                          1  \n",
       "promo2_since_week                          40.000  \n",
       "promo2_since_year                        2014.000  \n",
       "promo_interval                    Jan,Apr,Jul,Oct  \n",
       "month_map                                     Jul  "
      ]
     },
     "execution_count": 107,
     "metadata": {},
     "output_type": "execute_result"
    }
   ],
   "source": [
    "df1.sample(5).T"
   ]
  },
  {
   "cell_type": "code",
   "execution_count": 108,
   "metadata": {},
   "outputs": [],
   "source": [
    "df1['is_promo'] =  df1[['promo_interval', 'month_map']].apply(lambda x: 0 if x['promo_interval'] == 0 else 1 if x['month_map'] in x['promo_interval'].split( ',' ) else 0, axis=1)"
   ]
  },
  {
   "cell_type": "code",
   "execution_count": 109,
   "metadata": {},
   "outputs": [
    {
     "data": {
      "text/html": [
       "<div>\n",
       "<style scoped>\n",
       "    .dataframe tbody tr th:only-of-type {\n",
       "        vertical-align: middle;\n",
       "    }\n",
       "\n",
       "    .dataframe tbody tr th {\n",
       "        vertical-align: top;\n",
       "    }\n",
       "\n",
       "    .dataframe thead th {\n",
       "        text-align: right;\n",
       "    }\n",
       "</style>\n",
       "<table border=\"1\" class=\"dataframe\">\n",
       "  <thead>\n",
       "    <tr style=\"text-align: right;\">\n",
       "      <th></th>\n",
       "      <th>5347</th>\n",
       "      <th>979523</th>\n",
       "      <th>535209</th>\n",
       "      <th>205994</th>\n",
       "      <th>1005347</th>\n",
       "      <th>526367</th>\n",
       "      <th>118076</th>\n",
       "    </tr>\n",
       "  </thead>\n",
       "  <tbody>\n",
       "    <tr>\n",
       "      <th>store</th>\n",
       "      <td>888</td>\n",
       "      <td>224</td>\n",
       "      <td>795</td>\n",
       "      <td>835</td>\n",
       "      <td>403</td>\n",
       "      <td>873</td>\n",
       "      <td>1002</td>\n",
       "    </tr>\n",
       "    <tr>\n",
       "      <th>day_of_week</th>\n",
       "      <td>1</td>\n",
       "      <td>7</td>\n",
       "      <td>7</td>\n",
       "      <td>3</td>\n",
       "      <td>5</td>\n",
       "      <td>1</td>\n",
       "      <td>5</td>\n",
       "    </tr>\n",
       "    <tr>\n",
       "      <th>date</th>\n",
       "      <td>2015-07-27 00:00:00</td>\n",
       "      <td>2013-02-03 00:00:00</td>\n",
       "      <td>2014-03-09 00:00:00</td>\n",
       "      <td>2015-01-28 00:00:00</td>\n",
       "      <td>2013-01-11 00:00:00</td>\n",
       "      <td>2014-03-17 00:00:00</td>\n",
       "      <td>2015-04-17 00:00:00</td>\n",
       "    </tr>\n",
       "    <tr>\n",
       "      <th>sales</th>\n",
       "      <td>12303</td>\n",
       "      <td>0</td>\n",
       "      <td>0</td>\n",
       "      <td>5199</td>\n",
       "      <td>8879</td>\n",
       "      <td>5189</td>\n",
       "      <td>7132</td>\n",
       "    </tr>\n",
       "    <tr>\n",
       "      <th>customers</th>\n",
       "      <td>910</td>\n",
       "      <td>0</td>\n",
       "      <td>0</td>\n",
       "      <td>621</td>\n",
       "      <td>821</td>\n",
       "      <td>566</td>\n",
       "      <td>853</td>\n",
       "    </tr>\n",
       "    <tr>\n",
       "      <th>open</th>\n",
       "      <td>1</td>\n",
       "      <td>0</td>\n",
       "      <td>0</td>\n",
       "      <td>1</td>\n",
       "      <td>1</td>\n",
       "      <td>1</td>\n",
       "      <td>1</td>\n",
       "    </tr>\n",
       "    <tr>\n",
       "      <th>promo</th>\n",
       "      <td>1</td>\n",
       "      <td>0</td>\n",
       "      <td>0</td>\n",
       "      <td>1</td>\n",
       "      <td>1</td>\n",
       "      <td>1</td>\n",
       "      <td>1</td>\n",
       "    </tr>\n",
       "    <tr>\n",
       "      <th>state_holiday</th>\n",
       "      <td>0</td>\n",
       "      <td>0</td>\n",
       "      <td>0</td>\n",
       "      <td>0</td>\n",
       "      <td>0</td>\n",
       "      <td>0</td>\n",
       "      <td>0</td>\n",
       "    </tr>\n",
       "    <tr>\n",
       "      <th>school_holiday</th>\n",
       "      <td>1</td>\n",
       "      <td>0</td>\n",
       "      <td>0</td>\n",
       "      <td>0</td>\n",
       "      <td>0</td>\n",
       "      <td>0</td>\n",
       "      <td>0</td>\n",
       "    </tr>\n",
       "    <tr>\n",
       "      <th>store_type</th>\n",
       "      <td>d</td>\n",
       "      <td>d</td>\n",
       "      <td>d</td>\n",
       "      <td>a</td>\n",
       "      <td>a</td>\n",
       "      <td>a</td>\n",
       "      <td>d</td>\n",
       "    </tr>\n",
       "    <tr>\n",
       "      <th>assortment</th>\n",
       "      <td>a</td>\n",
       "      <td>c</td>\n",
       "      <td>a</td>\n",
       "      <td>a</td>\n",
       "      <td>a</td>\n",
       "      <td>a</td>\n",
       "      <td>c</td>\n",
       "    </tr>\n",
       "    <tr>\n",
       "      <th>competition_distance</th>\n",
       "      <td>4450.000</td>\n",
       "      <td>7930.000</td>\n",
       "      <td>510.000</td>\n",
       "      <td>2890.000</td>\n",
       "      <td>4970.000</td>\n",
       "      <td>2040.000</td>\n",
       "      <td>1130.000</td>\n",
       "    </tr>\n",
       "    <tr>\n",
       "      <th>competition_open_since_month</th>\n",
       "      <td>6.000</td>\n",
       "      <td>2.000</td>\n",
       "      <td>3.000</td>\n",
       "      <td>12.000</td>\n",
       "      <td>7.000</td>\n",
       "      <td>11.000</td>\n",
       "      <td>11.000</td>\n",
       "    </tr>\n",
       "    <tr>\n",
       "      <th>competition_open_since_year</th>\n",
       "      <td>2012.000</td>\n",
       "      <td>2013.000</td>\n",
       "      <td>2014.000</td>\n",
       "      <td>2007.000</td>\n",
       "      <td>2015.000</td>\n",
       "      <td>2008.000</td>\n",
       "      <td>2008.000</td>\n",
       "    </tr>\n",
       "    <tr>\n",
       "      <th>promo2</th>\n",
       "      <td>1</td>\n",
       "      <td>1</td>\n",
       "      <td>1</td>\n",
       "      <td>1</td>\n",
       "      <td>0</td>\n",
       "      <td>0</td>\n",
       "      <td>0</td>\n",
       "    </tr>\n",
       "    <tr>\n",
       "      <th>promo2_since_week</th>\n",
       "      <td>35.000</td>\n",
       "      <td>1.000</td>\n",
       "      <td>35.000</td>\n",
       "      <td>10.000</td>\n",
       "      <td>2.000</td>\n",
       "      <td>12.000</td>\n",
       "      <td>16.000</td>\n",
       "    </tr>\n",
       "    <tr>\n",
       "      <th>promo2_since_year</th>\n",
       "      <td>2012.000</td>\n",
       "      <td>2013.000</td>\n",
       "      <td>2010.000</td>\n",
       "      <td>2014.000</td>\n",
       "      <td>2013.000</td>\n",
       "      <td>2014.000</td>\n",
       "      <td>2015.000</td>\n",
       "    </tr>\n",
       "    <tr>\n",
       "      <th>promo_interval</th>\n",
       "      <td>Mar,Jun,Sept,Dec</td>\n",
       "      <td>Jan,Apr,Jul,Oct</td>\n",
       "      <td>Mar,Jun,Sept,Dec</td>\n",
       "      <td>Mar,Jun,Sept,Dec</td>\n",
       "      <td>0</td>\n",
       "      <td>0</td>\n",
       "      <td>0</td>\n",
       "    </tr>\n",
       "    <tr>\n",
       "      <th>month_map</th>\n",
       "      <td>Jul</td>\n",
       "      <td>Feb</td>\n",
       "      <td>Mar</td>\n",
       "      <td>Jan</td>\n",
       "      <td>Jan</td>\n",
       "      <td>Mar</td>\n",
       "      <td>Apr</td>\n",
       "    </tr>\n",
       "    <tr>\n",
       "      <th>is_promo</th>\n",
       "      <td>0</td>\n",
       "      <td>0</td>\n",
       "      <td>1</td>\n",
       "      <td>0</td>\n",
       "      <td>0</td>\n",
       "      <td>0</td>\n",
       "      <td>0</td>\n",
       "    </tr>\n",
       "  </tbody>\n",
       "</table>\n",
       "</div>"
      ],
      "text/plain": [
       "                                          5347                 979523   \\\n",
       "store                                         888                  224   \n",
       "day_of_week                                     1                    7   \n",
       "date                          2015-07-27 00:00:00  2013-02-03 00:00:00   \n",
       "sales                                       12303                    0   \n",
       "customers                                     910                    0   \n",
       "open                                            1                    0   \n",
       "promo                                           1                    0   \n",
       "state_holiday                                   0                    0   \n",
       "school_holiday                                  1                    0   \n",
       "store_type                                      d                    d   \n",
       "assortment                                      a                    c   \n",
       "competition_distance                     4450.000             7930.000   \n",
       "competition_open_since_month                6.000                2.000   \n",
       "competition_open_since_year              2012.000             2013.000   \n",
       "promo2                                          1                    1   \n",
       "promo2_since_week                          35.000                1.000   \n",
       "promo2_since_year                        2012.000             2013.000   \n",
       "promo_interval                   Mar,Jun,Sept,Dec      Jan,Apr,Jul,Oct   \n",
       "month_map                                     Jul                  Feb   \n",
       "is_promo                                        0                    0   \n",
       "\n",
       "                                          535209               205994   \\\n",
       "store                                         795                  835   \n",
       "day_of_week                                     7                    3   \n",
       "date                          2014-03-09 00:00:00  2015-01-28 00:00:00   \n",
       "sales                                           0                 5199   \n",
       "customers                                       0                  621   \n",
       "open                                            0                    1   \n",
       "promo                                           0                    1   \n",
       "state_holiday                                   0                    0   \n",
       "school_holiday                                  0                    0   \n",
       "store_type                                      d                    a   \n",
       "assortment                                      a                    a   \n",
       "competition_distance                      510.000             2890.000   \n",
       "competition_open_since_month                3.000               12.000   \n",
       "competition_open_since_year              2014.000             2007.000   \n",
       "promo2                                          1                    1   \n",
       "promo2_since_week                          35.000               10.000   \n",
       "promo2_since_year                        2010.000             2014.000   \n",
       "promo_interval                   Mar,Jun,Sept,Dec     Mar,Jun,Sept,Dec   \n",
       "month_map                                     Mar                  Jan   \n",
       "is_promo                                        1                    0   \n",
       "\n",
       "                                          1005347              526367   \\\n",
       "store                                         403                  873   \n",
       "day_of_week                                     5                    1   \n",
       "date                          2013-01-11 00:00:00  2014-03-17 00:00:00   \n",
       "sales                                        8879                 5189   \n",
       "customers                                     821                  566   \n",
       "open                                            1                    1   \n",
       "promo                                           1                    1   \n",
       "state_holiday                                   0                    0   \n",
       "school_holiday                                  0                    0   \n",
       "store_type                                      a                    a   \n",
       "assortment                                      a                    a   \n",
       "competition_distance                     4970.000             2040.000   \n",
       "competition_open_since_month                7.000               11.000   \n",
       "competition_open_since_year              2015.000             2008.000   \n",
       "promo2                                          0                    0   \n",
       "promo2_since_week                           2.000               12.000   \n",
       "promo2_since_year                        2013.000             2014.000   \n",
       "promo_interval                                  0                    0   \n",
       "month_map                                     Jan                  Mar   \n",
       "is_promo                                        0                    0   \n",
       "\n",
       "                                          118076   \n",
       "store                                        1002  \n",
       "day_of_week                                     5  \n",
       "date                          2015-04-17 00:00:00  \n",
       "sales                                        7132  \n",
       "customers                                     853  \n",
       "open                                            1  \n",
       "promo                                           1  \n",
       "state_holiday                                   0  \n",
       "school_holiday                                  0  \n",
       "store_type                                      d  \n",
       "assortment                                      c  \n",
       "competition_distance                     1130.000  \n",
       "competition_open_since_month               11.000  \n",
       "competition_open_since_year              2008.000  \n",
       "promo2                                          0  \n",
       "promo2_since_week                          16.000  \n",
       "promo2_since_year                        2015.000  \n",
       "promo_interval                                  0  \n",
       "month_map                                     Apr  \n",
       "is_promo                                        0  "
      ]
     },
     "execution_count": 109,
     "metadata": {},
     "output_type": "execute_result"
    }
   ],
   "source": [
    "df1.sample(7).T"
   ]
  },
  {
   "cell_type": "code",
   "execution_count": 110,
   "metadata": {},
   "outputs": [
    {
     "name": "stdout",
     "output_type": "stream",
     "text": [
      "O dataset tem 20 colunas.\n",
      "Encontrado: 0 colunas que têm valores ausentes.\n"
     ]
    }
   ],
   "source": [
    "func_calc_percentual_valores_ausentes_coluna(df1)"
   ]
  },
  {
   "cell_type": "code",
   "execution_count": null,
   "metadata": {},
   "outputs": [],
   "source": []
  }
 ],
 "metadata": {
  "kernelspec": {
   "display_name": "venv",
   "language": "python",
   "name": "python3"
  },
  "language_info": {
   "codemirror_mode": {
    "name": "ipython",
    "version": 3
   },
   "file_extension": ".py",
   "mimetype": "text/x-python",
   "name": "python",
   "nbconvert_exporter": "python",
   "pygments_lexer": "ipython3",
   "version": "3.11.7"
  }
 },
 "nbformat": 4,
 "nbformat_minor": 2
}
